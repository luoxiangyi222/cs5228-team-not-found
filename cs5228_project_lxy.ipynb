{
 "cells": [
  {
   "cell_type": "markdown",
   "id": "bf9b3625-2531-46f9-ac75-9b3184e77796",
   "metadata": {},
   "source": [
    "\n",
    "# CS5228 Project - Team not found\n",
    "\n",
    "\n"
   ]
  },
  {
   "cell_type": "code",
   "execution_count": 1,
   "id": "ad03b75b-357b-4a5a-9745-7470401b3229",
   "metadata": {},
   "outputs": [],
   "source": [
    "# import packages\n",
    "\n",
    "import numpy as np\n",
    "import pandas as pd\n",
    "from src.utils import *"
   ]
  },
  {
   "cell_type": "markdown",
   "id": "53e6f6c1-d2df-4143-8b43-0c0e77db0119",
   "metadata": {},
   "source": [
    "## Load Data"
   ]
  },
  {
   "cell_type": "code",
   "execution_count": 2,
   "id": "7cb10fae-6ea9-4c99-b370-055c2cf8de80",
   "metadata": {},
   "outputs": [],
   "source": [
    "path = \"./\"\n",
    "\n",
    "original_train_df = pd.read_csv(path + \"data/train.csv\")\n",
    "original_test_df = pd.read_csv(path + \"data/test.csv\")"
   ]
  },
  {
   "cell_type": "code",
   "execution_count": 3,
   "id": "cac608d0-2012-45a2-bbfd-e1460b0a275f",
   "metadata": {},
   "outputs": [],
   "source": [
    "# duplicate dataset\n",
    "\n",
    "train_df = original_train_df.copy()\n",
    "test_df = original_test_df.copy()"
   ]
  },
  {
   "cell_type": "code",
   "execution_count": 4,
   "id": "4ca43247-880d-4ff0-b273-13d3bd39dbd7",
   "metadata": {},
   "outputs": [
    {
     "name": "stdout",
     "output_type": "stream",
     "text": [
      "(26048, 23)\n",
      "(7500, 22)\n"
     ]
    }
   ],
   "source": [
    "print(train_df.shape)\n",
    "print(test_df.shape)"
   ]
  },
  {
   "cell_type": "code",
   "execution_count": 5,
   "id": "9dd19339-7f6d-45fc-b129-0583ae1de85c",
   "metadata": {},
   "outputs": [
    {
     "data": {
      "text/html": [
       "<div>\n",
       "<style scoped>\n",
       "    .dataframe tbody tr th:only-of-type {\n",
       "        vertical-align: middle;\n",
       "    }\n",
       "\n",
       "    .dataframe tbody tr th {\n",
       "        vertical-align: top;\n",
       "    }\n",
       "\n",
       "    .dataframe thead th {\n",
       "        text-align: right;\n",
       "    }\n",
       "</style>\n",
       "<table border=\"1\" class=\"dataframe\">\n",
       "  <thead>\n",
       "    <tr style=\"text-align: right;\">\n",
       "      <th></th>\n",
       "      <th>listing_id</th>\n",
       "      <th>name</th>\n",
       "      <th>street</th>\n",
       "      <th>type</th>\n",
       "      <th>model</th>\n",
       "      <th>market_segment</th>\n",
       "      <th>type_of_area</th>\n",
       "      <th>bedrooms</th>\n",
       "      <th>bathrooms</th>\n",
       "      <th>district</th>\n",
       "      <th>...</th>\n",
       "      <th>lat</th>\n",
       "      <th>lng</th>\n",
       "      <th>tenure</th>\n",
       "      <th>built_year</th>\n",
       "      <th>no_of_units</th>\n",
       "      <th>area_size</th>\n",
       "      <th>eco_category</th>\n",
       "      <th>accessibility</th>\n",
       "      <th>date_listed</th>\n",
       "      <th>price</th>\n",
       "    </tr>\n",
       "  </thead>\n",
       "  <tbody>\n",
       "    <tr>\n",
       "      <th>0</th>\n",
       "      <td>6998418</td>\n",
       "      <td>seascape</td>\n",
       "      <td>57 cove way</td>\n",
       "      <td>condominium</td>\n",
       "      <td>condominium</td>\n",
       "      <td>ocr</td>\n",
       "      <td>strata</td>\n",
       "      <td>3</td>\n",
       "      <td>4.0</td>\n",
       "      <td>4</td>\n",
       "      <td>...</td>\n",
       "      <td>1.239337</td>\n",
       "      <td>103.837487</td>\n",
       "      <td>leasehold/99 years</td>\n",
       "      <td>2011.0</td>\n",
       "      <td>151.0</td>\n",
       "      <td>2336.0</td>\n",
       "      <td>uncategorized</td>\n",
       "      <td>guarded</td>\n",
       "      <td>2021-05-04</td>\n",
       "      <td>5390000.0</td>\n",
       "    </tr>\n",
       "    <tr>\n",
       "      <th>1</th>\n",
       "      <td>2046604</td>\n",
       "      <td>la maison</td>\n",
       "      <td>10 moulmein rise</td>\n",
       "      <td>apartment</td>\n",
       "      <td>apartment</td>\n",
       "      <td>ocr</td>\n",
       "      <td>strata</td>\n",
       "      <td>3</td>\n",
       "      <td>3.0</td>\n",
       "      <td>11</td>\n",
       "      <td>...</td>\n",
       "      <td>1.319533</td>\n",
       "      <td>103.847030</td>\n",
       "      <td>freehold</td>\n",
       "      <td>1999.0</td>\n",
       "      <td>24.0</td>\n",
       "      <td>1259.0</td>\n",
       "      <td>uncategorized</td>\n",
       "      <td>guarded</td>\n",
       "      <td>2021-05-07</td>\n",
       "      <td>2310000.0</td>\n",
       "    </tr>\n",
       "    <tr>\n",
       "      <th>2</th>\n",
       "      <td>7563513</td>\n",
       "      <td>viva</td>\n",
       "      <td>2 suffolk walk</td>\n",
       "      <td>condominium</td>\n",
       "      <td>condominium</td>\n",
       "      <td>ocr</td>\n",
       "      <td>strata</td>\n",
       "      <td>4</td>\n",
       "      <td>3.0</td>\n",
       "      <td>11</td>\n",
       "      <td>...</td>\n",
       "      <td>1.315656</td>\n",
       "      <td>103.844445</td>\n",
       "      <td>freehold</td>\n",
       "      <td>2012.0</td>\n",
       "      <td>235.0</td>\n",
       "      <td>1959.0</td>\n",
       "      <td>uncategorized</td>\n",
       "      <td>guarded</td>\n",
       "      <td>2021-06-30</td>\n",
       "      <td>5279500.0</td>\n",
       "    </tr>\n",
       "    <tr>\n",
       "      <th>3</th>\n",
       "      <td>3071445</td>\n",
       "      <td>urban treasures</td>\n",
       "      <td>205 jalan eunos</td>\n",
       "      <td>condominium</td>\n",
       "      <td>condominium</td>\n",
       "      <td>ocr</td>\n",
       "      <td>strata</td>\n",
       "      <td>3</td>\n",
       "      <td>2.0</td>\n",
       "      <td>14</td>\n",
       "      <td>...</td>\n",
       "      <td>1.329367</td>\n",
       "      <td>103.905791</td>\n",
       "      <td>freehold</td>\n",
       "      <td>NaN</td>\n",
       "      <td>237.0</td>\n",
       "      <td>883.0</td>\n",
       "      <td>uncategorized</td>\n",
       "      <td>guarded</td>\n",
       "      <td>2022-01-02</td>\n",
       "      <td>1843600.0</td>\n",
       "    </tr>\n",
       "    <tr>\n",
       "      <th>4</th>\n",
       "      <td>9667539</td>\n",
       "      <td>infini at east coast</td>\n",
       "      <td>east coast road</td>\n",
       "      <td>apartment</td>\n",
       "      <td>apartment</td>\n",
       "      <td>ocr</td>\n",
       "      <td>strata</td>\n",
       "      <td>3</td>\n",
       "      <td>3.0</td>\n",
       "      <td>15</td>\n",
       "      <td>...</td>\n",
       "      <td>1.309176</td>\n",
       "      <td>103.911352</td>\n",
       "      <td>freehold</td>\n",
       "      <td>NaN</td>\n",
       "      <td>36.0</td>\n",
       "      <td>1066.0</td>\n",
       "      <td>uncategorized</td>\n",
       "      <td>guarded</td>\n",
       "      <td>2021-12-24</td>\n",
       "      <td>2262700.0</td>\n",
       "    </tr>\n",
       "  </tbody>\n",
       "</table>\n",
       "<p>5 rows × 23 columns</p>\n",
       "</div>"
      ],
      "text/plain": [
       "   listing_id                  name             street         type  \\\n",
       "0     6998418              seascape       57 cove way   condominium   \n",
       "1     2046604             la maison  10 moulmein rise     apartment   \n",
       "2     7563513                  viva    2 suffolk walk   condominium   \n",
       "3     3071445       urban treasures   205 jalan eunos   condominium   \n",
       "4     9667539  infini at east coast    east coast road    apartment   \n",
       "\n",
       "         model market_segment type_of_area bedrooms  bathrooms  district  ...  \\\n",
       "0  condominium            ocr       strata        3        4.0         4  ...   \n",
       "1    apartment            ocr       strata        3        3.0        11  ...   \n",
       "2  condominium            ocr       strata        4        3.0        11  ...   \n",
       "3  condominium            ocr       strata        3        2.0        14  ...   \n",
       "4    apartment            ocr       strata        3        3.0        15  ...   \n",
       "\n",
       "        lat         lng              tenure  built_year  no_of_units  \\\n",
       "0  1.239337  103.837487  leasehold/99 years      2011.0        151.0   \n",
       "1  1.319533  103.847030            freehold      1999.0         24.0   \n",
       "2  1.315656  103.844445            freehold      2012.0        235.0   \n",
       "3  1.329367  103.905791            freehold         NaN        237.0   \n",
       "4  1.309176  103.911352            freehold         NaN         36.0   \n",
       "\n",
       "  area_size   eco_category  accessibility  date_listed      price  \n",
       "0    2336.0  uncategorized        guarded   2021-05-04  5390000.0  \n",
       "1    1259.0  uncategorized        guarded   2021-05-07  2310000.0  \n",
       "2    1959.0  uncategorized        guarded   2021-06-30  5279500.0  \n",
       "3     883.0  uncategorized        guarded   2022-01-02  1843600.0  \n",
       "4    1066.0  uncategorized        guarded   2021-12-24  2262700.0  \n",
       "\n",
       "[5 rows x 23 columns]"
      ]
     },
     "execution_count": 5,
     "metadata": {},
     "output_type": "execute_result"
    }
   ],
   "source": [
    "train_df.head()"
   ]
  },
  {
   "cell_type": "code",
   "execution_count": 6,
   "id": "bdbfbaf2-c4c6-4cc9-a7a5-cc34e8f55a62",
   "metadata": {},
   "outputs": [
    {
     "name": "stdout",
     "output_type": "stream",
     "text": [
      "listing_id          int64\n",
      "name               object\n",
      "street             object\n",
      "type               object\n",
      "model              object\n",
      "market_segment     object\n",
      "type_of_area       object\n",
      "bedrooms           object\n",
      "bathrooms         float64\n",
      "district            int64\n",
      "region             object\n",
      "planning_area      object\n",
      "subszone           object\n",
      "lat               float64\n",
      "lng               float64\n",
      "tenure             object\n",
      "built_year        float64\n",
      "no_of_units       float64\n",
      "area_size         float64\n",
      "eco_category       object\n",
      "accessibility      object\n",
      "date_listed        object\n",
      "price             float64\n",
      "dtype: object\n"
     ]
    }
   ],
   "source": [
    "print(train_df.dtypes)"
   ]
  },
  {
   "cell_type": "markdown",
   "id": "f428dc3c-0918-4e1d-b1f8-8335fcfe61d6",
   "metadata": {},
   "source": [
    "## Data Cleaning"
   ]
  },
  {
   "cell_type": "markdown",
   "id": "01ed8984-7820-4b84-9ca0-055ce60ab818",
   "metadata": {},
   "source": [
    "### Check null value"
   ]
  },
  {
   "cell_type": "code",
   "execution_count": 7,
   "id": "cc5f40e7-7043-4ce6-b151-630b5c812d54",
   "metadata": {},
   "outputs": [
    {
     "name": "stdout",
     "output_type": "stream",
     "text": [
      "listing_id            0\n",
      "name                  0\n",
      "street                0\n",
      "type                  0\n",
      "model              1280\n",
      "market_segment        0\n",
      "type_of_area          0\n",
      "bedrooms            404\n",
      "bathrooms          1236\n",
      "district              0\n",
      "region                0\n",
      "planning_area         0\n",
      "subszone              0\n",
      "lat                   0\n",
      "lng                   0\n",
      "tenure              287\n",
      "built_year        10043\n",
      "no_of_units        1042\n",
      "area_size             2\n",
      "eco_category          0\n",
      "accessibility         0\n",
      "date_listed           0\n",
      "price                 0\n",
      "dtype: int64\n",
      "listing_id           0\n",
      "name                 0\n",
      "street               0\n",
      "type                 0\n",
      "model              388\n",
      "market_segment       0\n",
      "type_of_area         0\n",
      "bedrooms           118\n",
      "bathrooms          337\n",
      "district             0\n",
      "region               0\n",
      "planning_area        0\n",
      "subszone             0\n",
      "lat                  0\n",
      "lng                  0\n",
      "tenure              85\n",
      "built_year        2875\n",
      "no_of_units        326\n",
      "area_size            0\n",
      "eco_category         0\n",
      "accessibility        0\n",
      "date_listed          0\n",
      "dtype: int64\n"
     ]
    }
   ],
   "source": [
    "# combine train and test\n",
    "\n",
    "train_test_df = pd.concat([train_df, test_df], axis=0)\n",
    "\n",
    "print(compute_null_count(original_train_df))\n",
    "print(compute_null_count(original_test_df))"
   ]
  },
  {
   "cell_type": "markdown",
   "id": "5a93f1e9-ef97-42c2-bd2f-f1ead5a37282",
   "metadata": {},
   "source": [
    "#### type\n",
    "\n",
    "conflicts:  \n",
    "\n",
    "**type:aprt; model:condo**  =>  align with type\n",
    "\n",
    "**type:condo; model:aprt** => google search"
   ]
  },
  {
   "cell_type": "code",
   "execution_count": 8,
   "id": "18aae94a-05c5-4576-9a48-e4ff5b5bc4fc",
   "metadata": {},
   "outputs": [],
   "source": [
    "# training\n",
    "\n",
    "type_df = train_df\n",
    "type_df = type_df[type_df[\"type\"] != type_df[\"model\"]]\n",
    "type_df_a = type_df[type_df[\"model\"] == \"condominium\"]\n",
    "\n",
    "\n",
    "# display(type_df_a.sort_values(\"name\"))\n",
    "\n",
    "# by checking property in the same name, these should be aligned with type\n",
    "train_df.loc[\n",
    "    (train_df[\"type\"] == \"apartment\") & (train_df[\"model\"] == \"condominium\"), \"model\"\n",
    "] = \"apartment\""
   ]
  },
  {
   "cell_type": "code",
   "execution_count": 9,
   "id": "482db09d-aac6-4721-83cb-93784d71b336",
   "metadata": {},
   "outputs": [],
   "source": [
    "# type_df = train_df\n",
    "# type_df = type_df[type_df['type'] != type_df['model']]\n",
    "# type_df_a = type_df[type_df['model'] == 'condominium']\n",
    "# display(type_df_a.sort_values('name'))"
   ]
  },
  {
   "cell_type": "code",
   "execution_count": 10,
   "id": "f9f4ed8e-efd3-4732-8d1e-e0e58ad2cb97",
   "metadata": {},
   "outputs": [
    {
     "data": {
      "text/html": [
       "<div>\n",
       "<style scoped>\n",
       "    .dataframe tbody tr th:only-of-type {\n",
       "        vertical-align: middle;\n",
       "    }\n",
       "\n",
       "    .dataframe tbody tr th {\n",
       "        vertical-align: top;\n",
       "    }\n",
       "\n",
       "    .dataframe thead th {\n",
       "        text-align: right;\n",
       "    }\n",
       "</style>\n",
       "<table border=\"1\" class=\"dataframe\">\n",
       "  <thead>\n",
       "    <tr style=\"text-align: right;\">\n",
       "      <th></th>\n",
       "      <th>listing_id</th>\n",
       "      <th>name</th>\n",
       "      <th>street</th>\n",
       "      <th>type</th>\n",
       "      <th>model</th>\n",
       "      <th>market_segment</th>\n",
       "      <th>type_of_area</th>\n",
       "      <th>bedrooms</th>\n",
       "      <th>bathrooms</th>\n",
       "      <th>district</th>\n",
       "      <th>...</th>\n",
       "      <th>lat</th>\n",
       "      <th>lng</th>\n",
       "      <th>tenure</th>\n",
       "      <th>built_year</th>\n",
       "      <th>no_of_units</th>\n",
       "      <th>area_size</th>\n",
       "      <th>eco_category</th>\n",
       "      <th>accessibility</th>\n",
       "      <th>date_listed</th>\n",
       "      <th>price</th>\n",
       "    </tr>\n",
       "  </thead>\n",
       "  <tbody>\n",
       "    <tr>\n",
       "      <th>404</th>\n",
       "      <td>8117494</td>\n",
       "      <td>spottiswoode residences</td>\n",
       "      <td>48 spottiswoode park road</td>\n",
       "      <td>condominium</td>\n",
       "      <td>apartment</td>\n",
       "      <td>ocr</td>\n",
       "      <td>strata</td>\n",
       "      <td>2</td>\n",
       "      <td>2.0</td>\n",
       "      <td>2</td>\n",
       "      <td>...</td>\n",
       "      <td>1.275271</td>\n",
       "      <td>103.836832</td>\n",
       "      <td>freehold</td>\n",
       "      <td>2013.0</td>\n",
       "      <td>351.0</td>\n",
       "      <td>936.0</td>\n",
       "      <td>uncategorized</td>\n",
       "      <td>guarded</td>\n",
       "      <td>2022-01-05</td>\n",
       "      <td>2310000.0</td>\n",
       "    </tr>\n",
       "    <tr>\n",
       "      <th>20095</th>\n",
       "      <td>3352937</td>\n",
       "      <td>tan quee lan street</td>\n",
       "      <td>tan quee lan street</td>\n",
       "      <td>condominium</td>\n",
       "      <td>apartment</td>\n",
       "      <td>ocr</td>\n",
       "      <td>strata</td>\n",
       "      <td>1</td>\n",
       "      <td>1.0</td>\n",
       "      <td>7</td>\n",
       "      <td>...</td>\n",
       "      <td>1.298002</td>\n",
       "      <td>103.856935</td>\n",
       "      <td>leasehold/99 years</td>\n",
       "      <td>NaN</td>\n",
       "      <td>NaN</td>\n",
       "      <td>474.0</td>\n",
       "      <td>uncategorized</td>\n",
       "      <td>guarded</td>\n",
       "      <td>2021-10-20</td>\n",
       "      <td>1415700.0</td>\n",
       "    </tr>\n",
       "  </tbody>\n",
       "</table>\n",
       "<p>2 rows × 23 columns</p>\n",
       "</div>"
      ],
      "text/plain": [
       "       listing_id                     name                      street  \\\n",
       "404       8117494  spottiswoode residences  48 spottiswoode park road    \n",
       "20095     3352937      tan quee lan street         tan quee lan street   \n",
       "\n",
       "              type      model market_segment type_of_area bedrooms  bathrooms  \\\n",
       "404    condominium  apartment            ocr       strata        2        2.0   \n",
       "20095  condominium  apartment            ocr       strata        1        1.0   \n",
       "\n",
       "       district  ...       lat         lng              tenure  built_year  \\\n",
       "404           2  ...  1.275271  103.836832            freehold      2013.0   \n",
       "20095         7  ...  1.298002  103.856935  leasehold/99 years         NaN   \n",
       "\n",
       "       no_of_units area_size   eco_category  accessibility  date_listed  \\\n",
       "404          351.0     936.0  uncategorized        guarded   2022-01-05   \n",
       "20095          NaN     474.0  uncategorized        guarded   2021-10-20   \n",
       "\n",
       "           price  \n",
       "404    2310000.0  \n",
       "20095  1415700.0  \n",
       "\n",
       "[2 rows x 23 columns]"
      ]
     },
     "metadata": {},
     "output_type": "display_data"
    }
   ],
   "source": [
    "type_df_b = type_df[type_df[\"model\"] == \"apartment\"]\n",
    "display(type_df_b)\n",
    "# by see other property in spottiswoode residences, it is condo\n",
    "train_df.loc[(train_df[\"name\"] == \"spottiswoode residences\"), \"model\"] = \"condominium\"\n",
    "# by Google search , tan quee lan street is apartment.\n",
    "train_df.loc[(train_df[\"name\"] == \"tan quee lan street\"), \"type\"] = \"apartment\""
   ]
  },
  {
   "cell_type": "code",
   "execution_count": 11,
   "id": "6aa6f584-e8d5-402e-9c05-29919708bc03",
   "metadata": {},
   "outputs": [],
   "source": [
    "# type_df = train_df\n",
    "# type_df = type_df[type_df['type'] != type_df['model']]\n",
    "# type_df_b = type_df[type_df['model'] == 'apartment']\n",
    "# type_df_b"
   ]
  },
  {
   "cell_type": "code",
   "execution_count": 12,
   "id": "b10bd420-be61-466c-9b85-ecc73a596216",
   "metadata": {},
   "outputs": [
    {
     "data": {
      "text/html": [
       "<div>\n",
       "<style scoped>\n",
       "    .dataframe tbody tr th:only-of-type {\n",
       "        vertical-align: middle;\n",
       "    }\n",
       "\n",
       "    .dataframe tbody tr th {\n",
       "        vertical-align: top;\n",
       "    }\n",
       "\n",
       "    .dataframe thead th {\n",
       "        text-align: right;\n",
       "    }\n",
       "</style>\n",
       "<table border=\"1\" class=\"dataframe\">\n",
       "  <thead>\n",
       "    <tr style=\"text-align: right;\">\n",
       "      <th></th>\n",
       "      <th>listing_id</th>\n",
       "      <th>name</th>\n",
       "      <th>street</th>\n",
       "      <th>type</th>\n",
       "      <th>model</th>\n",
       "      <th>market_segment</th>\n",
       "      <th>type_of_area</th>\n",
       "      <th>bedrooms</th>\n",
       "      <th>bathrooms</th>\n",
       "      <th>district</th>\n",
       "      <th>...</th>\n",
       "      <th>subszone</th>\n",
       "      <th>lat</th>\n",
       "      <th>lng</th>\n",
       "      <th>tenure</th>\n",
       "      <th>built_year</th>\n",
       "      <th>no_of_units</th>\n",
       "      <th>area_size</th>\n",
       "      <th>eco_category</th>\n",
       "      <th>accessibility</th>\n",
       "      <th>date_listed</th>\n",
       "    </tr>\n",
       "  </thead>\n",
       "  <tbody>\n",
       "    <tr>\n",
       "      <th>4038</th>\n",
       "      <td>7642307</td>\n",
       "      <td>the poiz residences</td>\n",
       "      <td>12 meyappa chettiar road</td>\n",
       "      <td>apartment</td>\n",
       "      <td>condominium</td>\n",
       "      <td>ocr</td>\n",
       "      <td>strata</td>\n",
       "      <td>2</td>\n",
       "      <td>NaN</td>\n",
       "      <td>13</td>\n",
       "      <td>...</td>\n",
       "      <td>potong pasir</td>\n",
       "      <td>1.331545</td>\n",
       "      <td>103.866996</td>\n",
       "      <td>leasehold/99 years</td>\n",
       "      <td>2019.0</td>\n",
       "      <td>731.0</td>\n",
       "      <td>753.0</td>\n",
       "      <td>uncategorized</td>\n",
       "      <td>guarded</td>\n",
       "      <td>2022-01-03</td>\n",
       "    </tr>\n",
       "  </tbody>\n",
       "</table>\n",
       "<p>1 rows × 22 columns</p>\n",
       "</div>"
      ],
      "text/plain": [
       "      listing_id                 name                     street       type  \\\n",
       "4038     7642307  the poiz residences  12 meyappa chettiar road   apartment   \n",
       "\n",
       "            model market_segment type_of_area bedrooms  bathrooms  district  \\\n",
       "4038  condominium            ocr       strata        2        NaN        13   \n",
       "\n",
       "      ...      subszone       lat         lng              tenure  built_year  \\\n",
       "4038  ...  potong pasir  1.331545  103.866996  leasehold/99 years      2019.0   \n",
       "\n",
       "     no_of_units  area_size   eco_category  accessibility date_listed  \n",
       "4038       731.0      753.0  uncategorized        guarded  2022-01-03  \n",
       "\n",
       "[1 rows x 22 columns]"
      ]
     },
     "metadata": {},
     "output_type": "display_data"
    }
   ],
   "source": [
    "# testing\n",
    "\n",
    "type_df = test_df\n",
    "type_df = type_df[type_df[\"type\"] != type_df[\"model\"]]\n",
    "type_df_a = type_df[type_df[\"model\"] == \"condominium\"]\n",
    "display(type_df_a.sort_values(\"name\"))\n",
    "\n",
    "\n",
    "test_df.loc[test_df[\"name\"] == \"the poiz residences\", \"model\"] = \"apartment\""
   ]
  },
  {
   "cell_type": "code",
   "execution_count": 13,
   "id": "70010912-48a1-4568-a679-d473d2a615e5",
   "metadata": {},
   "outputs": [],
   "source": [
    "# type_df = test_df\n",
    "# type_df = type_df[type_df['type'] != type_df['model']]\n",
    "# type_df_a = type_df[type_df['model'] == 'condominium']\n",
    "# display(type_df_a.sort_values('name'))"
   ]
  },
  {
   "cell_type": "code",
   "execution_count": 14,
   "id": "927467e9-e1e0-4d98-9197-737c389c7cc3",
   "metadata": {},
   "outputs": [
    {
     "data": {
      "text/html": [
       "<div>\n",
       "<style scoped>\n",
       "    .dataframe tbody tr th:only-of-type {\n",
       "        vertical-align: middle;\n",
       "    }\n",
       "\n",
       "    .dataframe tbody tr th {\n",
       "        vertical-align: top;\n",
       "    }\n",
       "\n",
       "    .dataframe thead th {\n",
       "        text-align: right;\n",
       "    }\n",
       "</style>\n",
       "<table border=\"1\" class=\"dataframe\">\n",
       "  <thead>\n",
       "    <tr style=\"text-align: right;\">\n",
       "      <th></th>\n",
       "      <th>listing_id</th>\n",
       "      <th>name</th>\n",
       "      <th>street</th>\n",
       "      <th>type</th>\n",
       "      <th>model</th>\n",
       "      <th>market_segment</th>\n",
       "      <th>type_of_area</th>\n",
       "      <th>bedrooms</th>\n",
       "      <th>bathrooms</th>\n",
       "      <th>district</th>\n",
       "      <th>...</th>\n",
       "      <th>subszone</th>\n",
       "      <th>lat</th>\n",
       "      <th>lng</th>\n",
       "      <th>tenure</th>\n",
       "      <th>built_year</th>\n",
       "      <th>no_of_units</th>\n",
       "      <th>area_size</th>\n",
       "      <th>eco_category</th>\n",
       "      <th>accessibility</th>\n",
       "      <th>date_listed</th>\n",
       "    </tr>\n",
       "  </thead>\n",
       "  <tbody>\n",
       "    <tr>\n",
       "      <th>993</th>\n",
       "      <td>7474544</td>\n",
       "      <td>haus on handy</td>\n",
       "      <td>30 haus on handy</td>\n",
       "      <td>condominium</td>\n",
       "      <td>apartment</td>\n",
       "      <td>ocr</td>\n",
       "      <td>strata</td>\n",
       "      <td>1</td>\n",
       "      <td>NaN</td>\n",
       "      <td>9</td>\n",
       "      <td>...</td>\n",
       "      <td>dhoby ghaut</td>\n",
       "      <td>1.300136</td>\n",
       "      <td>103.84675</td>\n",
       "      <td>leasehold/99 years</td>\n",
       "      <td>NaN</td>\n",
       "      <td>188.0</td>\n",
       "      <td>452.0</td>\n",
       "      <td>uncategorized</td>\n",
       "      <td>guarded</td>\n",
       "      <td>2022-01-02</td>\n",
       "    </tr>\n",
       "  </tbody>\n",
       "</table>\n",
       "<p>1 rows × 22 columns</p>\n",
       "</div>"
      ],
      "text/plain": [
       "     listing_id           name             street         type      model  \\\n",
       "993     7474544  haus on handy  30 haus on handy   condominium  apartment   \n",
       "\n",
       "    market_segment type_of_area bedrooms  bathrooms  district  ...  \\\n",
       "993            ocr       strata        1        NaN         9  ...   \n",
       "\n",
       "        subszone       lat        lng              tenure  built_year  \\\n",
       "993  dhoby ghaut  1.300136  103.84675  leasehold/99 years         NaN   \n",
       "\n",
       "    no_of_units  area_size   eco_category  accessibility date_listed  \n",
       "993       188.0      452.0  uncategorized        guarded  2022-01-02  \n",
       "\n",
       "[1 rows x 22 columns]"
      ]
     },
     "metadata": {},
     "output_type": "display_data"
    }
   ],
   "source": [
    "type_df_b = type_df[type_df[\"model\"] == \"apartment\"]\n",
    "display(type_df_b.sort_values(\"name\"))\n",
    "\n",
    "\n",
    "test_df.loc[test_df[\"name\"] == \"haus on handy\", \"model\"] = \"condominium\""
   ]
  },
  {
   "cell_type": "code",
   "execution_count": 15,
   "id": "1abe6b7e-e0de-4862-aced-7375d36ef555",
   "metadata": {},
   "outputs": [],
   "source": [
    "# type_df = test_df\n",
    "# type_df = type_df[type_df['type'] != type_df['model']]\n",
    "# type_df_b = type_df[type_df['model'] == 'apartment']\n",
    "# display(type_df_b.sort_values('name'))"
   ]
  },
  {
   "cell_type": "markdown",
   "id": "d36895ed-1a13-4c0c-ba86-37cbee62f9dd",
   "metadata": {},
   "source": [
    "#### model \n",
    "\n",
    "# todo: merge models"
   ]
  },
  {
   "cell_type": "code",
   "execution_count": 16,
   "id": "6b25cb0e-30a2-41d1-8c86-b5f1283bcbca",
   "metadata": {},
   "outputs": [
    {
     "name": "stdout",
     "output_type": "stream",
     "text": [
      "model    1279\n",
      "dtype: int64\n",
      "model    24\n",
      "dtype: int64\n",
      "model    0\n",
      "dtype: int64\n"
     ]
    }
   ],
   "source": [
    "# training\n",
    "\n",
    "print(compute_null_count(train_df, [\"model\"]))\n",
    "\n",
    "# fill null with the same property name\n",
    "train_df = fill_missing_value_by_group_neighbor(train_df, \"model\", \"name\")\n",
    "print(compute_null_count(train_df, [\"model\"]))\n",
    "\n",
    "\n",
    "# by type\n",
    "train_df[\"model\"] = train_df[\"model\"].fillna(train_df[\"type\"])\n",
    "print(compute_null_count(train_df, [\"model\"]))\n",
    "\n",
    "\n"
   ]
  },
  {
   "cell_type": "code",
   "execution_count": 17,
   "id": "c5ae2381-8baa-4eb9-aad6-c140a4f6d42b",
   "metadata": {},
   "outputs": [
    {
     "data": {
      "text/plain": [
       "model                \n",
       "apartment                13859\n",
       "condominium              11480\n",
       "executive condominium      654\n",
       "landed                      55\n",
       "dtype: int64"
      ]
     },
     "execution_count": 17,
     "metadata": {},
     "output_type": "execute_result"
    }
   ],
   "source": [
    "\n",
    "# merge\n",
    "final_groups = ['apartment', 'condominium', 'executive condominium','landed']\n",
    "landed = ['townhouse', 'strata terrace', 'duplex']\n",
    "\n",
    "train_df.loc[train_df['model'].isin(landed), 'model'] = 'landed'\n",
    "\n",
    "train_df.loc[~train_df['model'].isin(final_groups), 'model'] = train_df['type']\n",
    "\n",
    "train_df[['model']].value_counts()"
   ]
  },
  {
   "cell_type": "code",
   "execution_count": 18,
   "id": "cad6381c-caf6-4356-9d59-6c5c5f5e12d2",
   "metadata": {},
   "outputs": [
    {
     "name": "stdout",
     "output_type": "stream",
     "text": [
      "model    387\n",
      "dtype: int64\n",
      "model    20\n",
      "dtype: int64\n",
      "model    0\n",
      "dtype: int64\n"
     ]
    }
   ],
   "source": [
    "# testing\n",
    "print(compute_null_count(test_df, [\"model\"]))\n",
    "\n",
    "\n",
    "# by name\n",
    "test_df = fill_missing_value_by_group_neighbor(test_df, \"model\", \"name\")\n",
    "print(compute_null_count(test_df, [\"model\"]))\n",
    "\n",
    "\n",
    "# by type\n",
    "test_df[\"model\"] = test_df[\"model\"].fillna(test_df[\"type\"])\n",
    "print(compute_null_count(test_df, [\"model\"]))\n",
    "\n",
    "\n",
    "\n"
   ]
  },
  {
   "cell_type": "code",
   "execution_count": 19,
   "id": "eae741cd-5ae7-477a-9bd6-7002f07675e4",
   "metadata": {},
   "outputs": [
    {
     "data": {
      "text/plain": [
       "model                \n",
       "apartment                3978\n",
       "condominium              3335\n",
       "executive condominium     179\n",
       "landed                      8\n",
       "dtype: int64"
      ]
     },
     "execution_count": 19,
     "metadata": {},
     "output_type": "execute_result"
    }
   ],
   "source": [
    "# merge\n",
    "final_groups = ['apartment', 'condominium', 'executive condominium','landed']\n",
    "landed = ['townhouse', 'strata terrace', 'duplex']\n",
    "\n",
    "test_df.loc[test_df['model'].isin(landed), 'model'] = 'landed'\n",
    "\n",
    "test_df.loc[~test_df['model'].isin(final_groups), 'model'] = test_df['type']\n",
    "\n",
    "test_df[['model']].value_counts()"
   ]
  },
  {
   "cell_type": "markdown",
   "id": "3b73664a-3f16-4024-a0a0-6e62d0836eb3",
   "metadata": {},
   "source": [
    "#### area size"
   ]
  },
  {
   "cell_type": "code",
   "execution_count": 20,
   "id": "49551c99-3c4d-4495-86b8-8e3a05e5f125",
   "metadata": {},
   "outputs": [],
   "source": [
    "# area_size\n",
    "\n",
    "# fill null by median\n",
    "train_df.loc[train_df[\"area_size\"].isnull(), \"area_size\"] = train_df[\n",
    "    \"area_size\"\n",
    "].median()"
   ]
  },
  {
   "cell_type": "code",
   "execution_count": 21,
   "id": "f482ce5d-5006-41df-9757-1896761f10d7",
   "metadata": {},
   "outputs": [
    {
     "data": {
      "text/html": [
       "<div>\n",
       "<style scoped>\n",
       "    .dataframe tbody tr th:only-of-type {\n",
       "        vertical-align: middle;\n",
       "    }\n",
       "\n",
       "    .dataframe tbody tr th {\n",
       "        vertical-align: top;\n",
       "    }\n",
       "\n",
       "    .dataframe thead th {\n",
       "        text-align: right;\n",
       "    }\n",
       "</style>\n",
       "<table border=\"1\" class=\"dataframe\">\n",
       "  <thead>\n",
       "    <tr style=\"text-align: right;\">\n",
       "      <th></th>\n",
       "      <th>k</th>\n",
       "      <th>g</th>\n",
       "      <th>value</th>\n",
       "    </tr>\n",
       "  </thead>\n",
       "  <tbody>\n",
       "    <tr>\n",
       "      <th>0</th>\n",
       "      <td>a</td>\n",
       "      <td>6.2</td>\n",
       "      <td>1.0</td>\n",
       "    </tr>\n",
       "    <tr>\n",
       "      <th>1</th>\n",
       "      <td>b</td>\n",
       "      <td>0.0</td>\n",
       "      <td>NaN</td>\n",
       "    </tr>\n",
       "    <tr>\n",
       "      <th>2</th>\n",
       "      <td>b</td>\n",
       "      <td>1.5</td>\n",
       "      <td>6.0</td>\n",
       "    </tr>\n",
       "    <tr>\n",
       "      <th>3</th>\n",
       "      <td>c</td>\n",
       "      <td>1.6</td>\n",
       "      <td>7.0</td>\n",
       "    </tr>\n",
       "    <tr>\n",
       "      <th>4</th>\n",
       "      <td>a</td>\n",
       "      <td>2.0</td>\n",
       "      <td>NaN</td>\n",
       "    </tr>\n",
       "  </tbody>\n",
       "</table>\n",
       "</div>"
      ],
      "text/plain": [
       "   k    g  value\n",
       "0  a  6.2    1.0\n",
       "1  b  0.0    NaN\n",
       "2  b  1.5    6.0\n",
       "3  c  1.6    7.0\n",
       "4  a  2.0    NaN"
      ]
     },
     "metadata": {},
     "output_type": "display_data"
    },
    {
     "data": {
      "text/html": [
       "<div>\n",
       "<style scoped>\n",
       "    .dataframe tbody tr th:only-of-type {\n",
       "        vertical-align: middle;\n",
       "    }\n",
       "\n",
       "    .dataframe tbody tr th {\n",
       "        vertical-align: top;\n",
       "    }\n",
       "\n",
       "    .dataframe thead th {\n",
       "        text-align: right;\n",
       "    }\n",
       "</style>\n",
       "<table border=\"1\" class=\"dataframe\">\n",
       "  <thead>\n",
       "    <tr style=\"text-align: right;\">\n",
       "      <th></th>\n",
       "      <th>k</th>\n",
       "      <th>g</th>\n",
       "      <th>value</th>\n",
       "    </tr>\n",
       "  </thead>\n",
       "  <tbody>\n",
       "    <tr>\n",
       "      <th>0</th>\n",
       "      <td>a</td>\n",
       "      <td>6.2</td>\n",
       "      <td>1.0</td>\n",
       "    </tr>\n",
       "    <tr>\n",
       "      <th>1</th>\n",
       "      <td>b</td>\n",
       "      <td>0.0</td>\n",
       "      <td>b</td>\n",
       "    </tr>\n",
       "    <tr>\n",
       "      <th>2</th>\n",
       "      <td>b</td>\n",
       "      <td>1.5</td>\n",
       "      <td>6.0</td>\n",
       "    </tr>\n",
       "    <tr>\n",
       "      <th>3</th>\n",
       "      <td>c</td>\n",
       "      <td>1.6</td>\n",
       "      <td>7.0</td>\n",
       "    </tr>\n",
       "    <tr>\n",
       "      <th>4</th>\n",
       "      <td>a</td>\n",
       "      <td>2.0</td>\n",
       "      <td>a</td>\n",
       "    </tr>\n",
       "  </tbody>\n",
       "</table>\n",
       "</div>"
      ],
      "text/plain": [
       "   k    g value\n",
       "0  a  6.2   1.0\n",
       "1  b  0.0     b\n",
       "2  b  1.5   6.0\n",
       "3  c  1.6   7.0\n",
       "4  a  2.0     a"
      ]
     },
     "metadata": {},
     "output_type": "display_data"
    }
   ],
   "source": [
    "# test code\n",
    "\n",
    "df = pd.DataFrame(\n",
    "    [[\"a\", 6.2, 1], [\"b\", 0.0, None], [\"b\", 1.5, 6], [\"c\", 1.6, 7], [\"a\", 2.0, None]]\n",
    ")\n",
    "\n",
    "df.columns = [\"k\", \"g\", \"value\"]\n",
    "\n",
    "display(df)\n",
    "\n",
    "# df = fill_missing_value_by_group_neighbor(df, 'value', 'k')\n",
    "\n",
    "df[\"value\"] = df[\"value\"].fillna(df[\"k\"])\n",
    "\n",
    "display(df)"
   ]
  },
  {
   "cell_type": "markdown",
   "id": "c09f47d4-a7bd-4105-9d6c-59bbb21ecfd9",
   "metadata": {},
   "source": [
    "#### bedroom"
   ]
  },
  {
   "cell_type": "code",
   "execution_count": 22,
   "id": "a9719602-9eaf-471f-b2ad-be52f5b226f4",
   "metadata": {},
   "outputs": [
    {
     "name": "stdout",
     "output_type": "stream",
     "text": [
      "bedrooms    404\n",
      "dtype: int64\n",
      "bedrooms    0\n",
      "dtype: int64\n"
     ]
    }
   ],
   "source": [
    "# training\n",
    "\n",
    "# break into bedrooms and additional rooms\n",
    "print(compute_null_count(train_df, [\"bedrooms\"]))\n",
    "\n",
    "# fill null according to area size\n",
    "train_df = fill_missing_value_by_neighbor(train_df, \"bedrooms\", \"area_size\")\n",
    "\n",
    "print(compute_null_count(train_df, [\"bedrooms\"]))\n",
    "\n",
    "\n",
    "# split to two columns\n",
    "train_df[[\"bedrooms\", \"additional_rooms\"]] = (\n",
    "    train_df[\"bedrooms\"].str.split(\"+\", expand=True).fillna(0)\n",
    ")\n",
    "train_df[[\"bedrooms\", \"additional_rooms\"]] = train_df[\n",
    "    [\"bedrooms\", \"additional_rooms\"]\n",
    "].astype(\"int\")"
   ]
  },
  {
   "cell_type": "code",
   "execution_count": 23,
   "id": "15001c15-d14b-4622-a8e1-c82b4bc7fc82",
   "metadata": {},
   "outputs": [
    {
     "name": "stdout",
     "output_type": "stream",
     "text": [
      "bedrooms    118\n",
      "dtype: int64\n",
      "bedrooms            0\n",
      "additional_rooms    0\n",
      "dtype: int64\n"
     ]
    }
   ],
   "source": [
    "# testing\n",
    "\n",
    "print(compute_null_count(test_df, [\"bedrooms\"]))\n",
    "\n",
    "# fill null according to area size\n",
    "test_df = fill_missing_value_by_neighbor(test_df, \"bedrooms\", \"area_size\")\n",
    "# print(compute_null_count(test_df, ['bedrooms']))\n",
    "\n",
    "test_df[[\"bedrooms\"]] = test_df[[\"bedrooms\"]].fillna(1)\n",
    "\n",
    "# split to to columns\n",
    "test_df[[\"bedrooms\", \"additional_rooms\"]] = test_df[\"bedrooms\"].str.split(\n",
    "    \"+\", expand=True\n",
    ")\n",
    "test_df[[\"bedrooms\", \"additional_rooms\"]] = test_df[\n",
    "    [\"bedrooms\", \"additional_rooms\"]\n",
    "].replace(r\"\", np.nan)\n",
    "test_df[[\"bedrooms\", \"additional_rooms\"]] = test_df[\n",
    "    [\"bedrooms\", \"additional_rooms\"]\n",
    "].fillna(0)\n",
    "test_df[[\"bedrooms\", \"additional_rooms\"]] = test_df[\n",
    "    [\"bedrooms\", \"additional_rooms\"]\n",
    "].astype(\"int\")\n",
    "\n",
    "print(compute_null_count(test_df, [\"bedrooms\", \"additional_rooms\"]))"
   ]
  },
  {
   "cell_type": "markdown",
   "id": "c639354d-8931-4930-b7fe-95d685bc0706",
   "metadata": {},
   "source": [
    "#### bathroom\n"
   ]
  },
  {
   "cell_type": "code",
   "execution_count": 24,
   "id": "04a60f60-8a4e-41d0-9e60-8438f9480b77",
   "metadata": {},
   "outputs": [
    {
     "name": "stdout",
     "output_type": "stream",
     "text": [
      "bathrooms    1236\n",
      "dtype: int64\n",
      "bathrooms    0\n",
      "dtype: int64\n"
     ]
    }
   ],
   "source": [
    "# training\n",
    "print(compute_null_count(train_df, [\"bathrooms\"]))\n",
    "\n",
    "# fill null by bedrooms\n",
    "train_df = fill_missing_value_by_neighbor(train_df, \"bathrooms\", \"bedrooms\")\n",
    "print(compute_null_count(train_df, [\"bathrooms\"]))"
   ]
  },
  {
   "cell_type": "code",
   "execution_count": 25,
   "id": "1714810c-733b-45c1-a39e-5283700ca1f8",
   "metadata": {},
   "outputs": [
    {
     "name": "stdout",
     "output_type": "stream",
     "text": [
      "bathrooms    337\n",
      "dtype: int64\n",
      "bathrooms    0\n",
      "dtype: int64\n"
     ]
    }
   ],
   "source": [
    "# testing\n",
    "print(compute_null_count(test_df, [\"bathrooms\"]))\n",
    "\n",
    "test_df = fill_missing_value_by_neighbor(test_df, \"bathrooms\", \"bedrooms\")\n",
    "print(compute_null_count(test_df, [\"bathrooms\"]))"
   ]
  },
  {
   "cell_type": "markdown",
   "id": "cc0515a2-6454-403d-8001-af425663ce1d",
   "metadata": {},
   "source": [
    "#### tenure\n",
    "\n",
    "https://www.propertyguru.com.sg/property-guides/singapore-freehold-vs-leasehold-which-is-better-9520"
   ]
  },
  {
   "cell_type": "code",
   "execution_count": 26,
   "id": "c7bf70ee-e526-4aa9-a15e-99d455315383",
   "metadata": {},
   "outputs": [
    {
     "name": "stdout",
     "output_type": "stream",
     "text": [
      "tenure    287\n",
      "dtype: int64\n",
      "tenure    72\n",
      "dtype: int64\n",
      "tenure    21\n",
      "dtype: int64\n",
      "tenure    0\n",
      "dtype: int64\n"
     ]
    }
   ],
   "source": [
    "# training\n",
    "\n",
    "# fill null by name\n",
    "print(compute_null_count(train_df, [\"tenure\"]))\n",
    "train_df = fill_missing_value_by_group_neighbor(train_df, \"tenure\", \"name\")\n",
    "print(compute_null_count(train_df, [\"tenure\"]))\n",
    "\n",
    "# fill null by street\n",
    "train_df = fill_missing_value_by_group_neighbor(train_df, \"tenure\", \"street\")\n",
    "print(compute_null_count(train_df, [\"tenure\"]))\n",
    "\n",
    "# by mode\n",
    "train_df[\"tenure\"] = train_df[\"tenure\"].fillna(train_df[[\"tenure\"]].mode().iloc[0, 0])\n",
    "print(compute_null_count(train_df, [\"tenure\"]))\n",
    "\n",
    "# convert to binary columns freehold"
   ]
  },
  {
   "cell_type": "code",
   "execution_count": 27,
   "id": "3b0e9f9c-f7f4-4444-814e-cc26e8e72905",
   "metadata": {},
   "outputs": [],
   "source": [
    "# change freehold to 999 years\n",
    "train_df.loc[train_df[\"tenure\"] == \"freehold\", \"tenure\"] = \"999 years\"\n",
    "\n",
    "\n",
    "freehold = train_df[\"tenure\"].str.extract(\"(\\d+)\").astype(\"int\")\n",
    "\n",
    "freehold[freehold <= 99] = 0\n",
    "freehold[freehold > 99] = 1\n",
    "\n",
    "train_df = train_df.rename(columns={\"tenure\": \"freehold\"})\n",
    "train_df[\"freehold\"] = freehold"
   ]
  },
  {
   "cell_type": "code",
   "execution_count": 28,
   "id": "a0ee6111-429d-4943-9fd8-07555b8eb59b",
   "metadata": {},
   "outputs": [
    {
     "name": "stdout",
     "output_type": "stream",
     "text": [
      "tenure    85\n",
      "dtype: int64\n",
      "tenure    36\n",
      "dtype: int64\n",
      "tenure    13\n",
      "dtype: int64\n",
      "tenure    0\n",
      "dtype: int64\n"
     ]
    }
   ],
   "source": [
    "# testing\n",
    "# fill null by name\n",
    "print(compute_null_count(test_df, [\"tenure\"]))\n",
    "test_df = fill_missing_value_by_group_neighbor(test_df, \"tenure\", \"name\")\n",
    "print(compute_null_count(test_df, [\"tenure\"]))\n",
    "\n",
    "# by street\n",
    "test_df = fill_missing_value_by_group_neighbor(test_df, \"tenure\", \"street\")\n",
    "print(compute_null_count(test_df, [\"tenure\"]))\n",
    "\n",
    "# by mode\n",
    "test_df[\"tenure\"] = test_df[\"tenure\"].fillna(\n",
    "    train_test_df[[\"tenure\"]].mode().iloc[0, 0]\n",
    ")\n",
    "print(compute_null_count(test_df, [\"tenure\"]))"
   ]
  },
  {
   "cell_type": "code",
   "execution_count": 29,
   "id": "d6b78589-5c98-41ea-920f-fbfc5e45ddc6",
   "metadata": {},
   "outputs": [
    {
     "data": {
      "text/plain": [
       "freehold\n",
       "0           4374\n",
       "1           3126\n",
       "dtype: int64"
      ]
     },
     "execution_count": 29,
     "metadata": {},
     "output_type": "execute_result"
    }
   ],
   "source": [
    "# change freehold to 999\n",
    "test_df.loc[test_df[\"tenure\"] == \"freehold\", \"tenure\"] = \"999 years\"\n",
    "\n",
    "freehold = test_df[\"tenure\"].str.extract(\"(\\d+)\").astype(\"int\")\n",
    "\n",
    "\n",
    "freehold[freehold <= 99] = 0\n",
    "freehold[freehold > 99] = 1\n",
    "\n",
    "test_df = test_df.rename(columns={\"tenure\": \"freehold\"})\n",
    "test_df[\"freehold\"] = freehold\n",
    "\n",
    "\n",
    "test_df[[\"freehold\"]].value_counts()"
   ]
  },
  {
   "cell_type": "markdown",
   "id": "cfe7de1f-413f-40e0-930e-834dabacab8c",
   "metadata": {},
   "source": [
    "#### built year\n"
   ]
  },
  {
   "cell_type": "code",
   "execution_count": 30,
   "id": "60ec4958-952d-44c4-9638-c7d9f625ff2b",
   "metadata": {},
   "outputs": [
    {
     "name": "stdout",
     "output_type": "stream",
     "text": [
      "built_year    10043\n",
      "dtype: int64\n",
      "built_year    2684\n",
      "dtype: int64\n",
      "built_year    0\n",
      "dtype: int64\n"
     ]
    }
   ],
   "source": [
    "# training\n",
    "\n",
    "# fill null\n",
    "print(compute_null_count(train_df, [\"built_year\"]))\n",
    "\n",
    "# by name\n",
    "train_df = fill_missing_value_by_group_neighbor(train_df, \"built_year\", \"name\")\n",
    "print(compute_null_count(train_df, [\"built_year\"]))\n",
    "\n",
    "# filled by 'unknown'\n",
    "train_df[\"built_year\"] = train_df[\"built_year\"].fillna(-1)\n",
    "print(compute_null_count(train_df, [\"built_year\"]))"
   ]
  },
  {
   "cell_type": "code",
   "execution_count": 31,
   "id": "722ffdc0-a352-4214-91b2-c51bac025aa7",
   "metadata": {},
   "outputs": [
    {
     "name": "stdout",
     "output_type": "stream",
     "text": [
      "built_year    2875\n",
      "dtype: int64\n",
      "built_year    1333\n",
      "dtype: int64\n",
      "built_year    0\n",
      "dtype: int64\n"
     ]
    }
   ],
   "source": [
    "# testing\n",
    "\n",
    "# fill null\n",
    "print(compute_null_count(test_df, [\"built_year\"]))\n",
    "\n",
    "# by name\n",
    "test_df = fill_missing_value_by_group_neighbor(test_df, \"built_year\", \"name\")\n",
    "print(compute_null_count(test_df, [\"built_year\"]))\n",
    "\n",
    "# filled by 'unknown'\n",
    "test_df[\"built_year\"] = test_df[\"built_year\"].fillna(-1)\n",
    "print(compute_null_count(test_df, [\"built_year\"]))"
   ]
  },
  {
   "cell_type": "markdown",
   "id": "d85387a0-8350-4323-b04e-2ec5e1c49afa",
   "metadata": {},
   "source": [
    "#### no_of_units"
   ]
  },
  {
   "cell_type": "code",
   "execution_count": 32,
   "id": "e0da228f-5ec8-43fa-b376-31c8393fc885",
   "metadata": {},
   "outputs": [
    {
     "name": "stdout",
     "output_type": "stream",
     "text": [
      "no_of_units    1042\n",
      "dtype: int64\n",
      "no_of_units    1015\n",
      "dtype: int64\n",
      "no_of_units    0\n",
      "dtype: int64\n"
     ]
    }
   ],
   "source": [
    "# training\n",
    "print(compute_null_count(train_df, [\"no_of_units\"]))\n",
    "\n",
    "\n",
    "# by name\n",
    "train_df = fill_missing_value_by_group_neighbor(train_df, \"no_of_units\", \"name\")\n",
    "print(compute_null_count(train_df, [\"no_of_units\"]))\n",
    "\n",
    "\n",
    "# by mean\n",
    "train_df[\"no_of_units\"] = train_df[\"no_of_units\"].fillna(np.round(train_df[\"no_of_units\"].mean(), 1))\n",
    "print(compute_null_count(train_df, [\"no_of_units\"]))"
   ]
  },
  {
   "cell_type": "code",
   "execution_count": 33,
   "id": "1871e1df-e0f6-493a-bfeb-f462b30ac131",
   "metadata": {},
   "outputs": [
    {
     "name": "stdout",
     "output_type": "stream",
     "text": [
      "no_of_units    326\n",
      "dtype: int64\n",
      "no_of_units    312\n",
      "dtype: int64\n",
      "no_of_units    0\n",
      "dtype: int64\n"
     ]
    }
   ],
   "source": [
    "# testing\n",
    "print(compute_null_count(test_df, [\"no_of_units\"]))\n",
    "\n",
    "\n",
    "# by name\n",
    "test_df = fill_missing_value_by_group_neighbor(test_df, \"no_of_units\", \"name\")\n",
    "print(compute_null_count(test_df, [\"no_of_units\"]))\n",
    "\n",
    "\n",
    "# by mean\n",
    "test_df[\"no_of_units\"] = test_df[\"no_of_units\"].fillna(\n",
    "    np.round(train_test_df[\"no_of_units\"].mean(), 1)\n",
    ")\n",
    "print(compute_null_count(test_df, [\"no_of_units\"]))"
   ]
  },
  {
   "cell_type": "markdown",
   "id": "c40e82b9-94f5-496a-9868-22f502dc2298",
   "metadata": {},
   "source": [
    "#### date_listed"
   ]
  },
  {
   "cell_type": "code",
   "execution_count": 34,
   "id": "95b2e29e-be94-4e72-9f20-59fb1882de47",
   "metadata": {},
   "outputs": [],
   "source": [
    "train_df[\"date_listed\"] = pd.to_datetime(train_df[\"date_listed\"])\n",
    "test_df[\"date_listed\"] = pd.to_datetime(test_df[\"date_listed\"])"
   ]
  },
  {
   "cell_type": "code",
   "execution_count": 35,
   "id": "8bf2eb5c-4fb7-4ab4-b7cd-dee6e7ba8395",
   "metadata": {},
   "outputs": [
    {
     "data": {
      "text/plain": [
       "listing_id          0\n",
       "name                0\n",
       "street              0\n",
       "type                0\n",
       "model               0\n",
       "market_segment      0\n",
       "type_of_area        0\n",
       "bedrooms            0\n",
       "bathrooms           0\n",
       "district            0\n",
       "region              0\n",
       "planning_area       0\n",
       "subszone            0\n",
       "lat                 0\n",
       "lng                 0\n",
       "freehold            0\n",
       "built_year          0\n",
       "no_of_units         0\n",
       "area_size           0\n",
       "eco_category        0\n",
       "accessibility       0\n",
       "date_listed         0\n",
       "price               0\n",
       "additional_rooms    0\n",
       "dtype: int64"
      ]
     },
     "execution_count": 35,
     "metadata": {},
     "output_type": "execute_result"
    }
   ],
   "source": [
    "# check null\n",
    "compute_null_count(train_df)"
   ]
  },
  {
   "cell_type": "code",
   "execution_count": 36,
   "id": "606775cb-5872-40d4-a64e-c825dd4eddbc",
   "metadata": {},
   "outputs": [
    {
     "data": {
      "text/plain": [
       "listing_id          0\n",
       "name                0\n",
       "street              0\n",
       "type                0\n",
       "model               0\n",
       "market_segment      0\n",
       "type_of_area        0\n",
       "bedrooms            0\n",
       "bathrooms           0\n",
       "district            0\n",
       "region              0\n",
       "planning_area       0\n",
       "subszone            0\n",
       "lat                 0\n",
       "lng                 0\n",
       "freehold            0\n",
       "built_year          0\n",
       "no_of_units         0\n",
       "area_size           0\n",
       "eco_category        0\n",
       "accessibility       0\n",
       "date_listed         0\n",
       "additional_rooms    0\n",
       "dtype: int64"
      ]
     },
     "execution_count": 36,
     "metadata": {},
     "output_type": "execute_result"
    }
   ],
   "source": [
    "compute_null_count(test_df)"
   ]
  },
  {
   "cell_type": "markdown",
   "id": "c324bfc3-0c46-4121-9202-1b62e1570274",
   "metadata": {},
   "source": [
    "### Check duplicates"
   ]
  },
  {
   "cell_type": "code",
   "execution_count": 37,
   "id": "9d4e4a5d-f2f5-4467-8c06-abb01e5cb1e2",
   "metadata": {},
   "outputs": [
    {
     "name": "stdout",
     "output_type": "stream",
     "text": [
      "0\n",
      "0\n"
     ]
    }
   ],
   "source": [
    "print(np.sum(train_df[\"listing_id\"].duplicated()))\n",
    "print(np.sum(test_df[\"listing_id\"].duplicated()))"
   ]
  },
  {
   "cell_type": "markdown",
   "id": "4a357a01-f13c-4abe-a843-cb1e94bd5552",
   "metadata": {},
   "source": [
    "### Drop useless columns\n",
    "\n"
   ]
  },
  {
   "cell_type": "code",
   "execution_count": 38,
   "id": "a0137377-0a63-439f-a91d-0fffeea9db12",
   "metadata": {},
   "outputs": [
    {
     "name": "stdout",
     "output_type": "stream",
     "text": [
      "ocr    26048\n",
      "Name: market_segment, dtype: int64\n",
      "strata    26048\n",
      "Name: type_of_area, dtype: int64\n",
      "uncategorized    26048\n",
      "Name: eco_category, dtype: int64\n",
      "guarded    26048\n",
      "Name: accessibility, dtype: int64\n"
     ]
    }
   ],
   "source": [
    "print(train_df[\"market_segment\"].value_counts())\n",
    "print(train_df[\"type_of_area\"].value_counts())\n",
    "print(train_df[\"eco_category\"].value_counts())\n",
    "print(train_df[\"accessibility\"].value_counts())"
   ]
  },
  {
   "cell_type": "code",
   "execution_count": 39,
   "id": "35378dfd-4239-4f48-aa29-26bd18c07112",
   "metadata": {},
   "outputs": [
    {
     "name": "stdout",
     "output_type": "stream",
     "text": [
      "ocr    7500\n",
      "Name: market_segment, dtype: int64\n",
      "strata    7500\n",
      "Name: type_of_area, dtype: int64\n",
      "uncategorized    7500\n",
      "Name: eco_category, dtype: int64\n",
      "guarded    7500\n",
      "Name: accessibility, dtype: int64\n"
     ]
    }
   ],
   "source": [
    "print(test_df[\"market_segment\"].value_counts())\n",
    "print(test_df[\"type_of_area\"].value_counts())\n",
    "print(test_df[\"eco_category\"].value_counts())\n",
    "print(test_df[\"accessibility\"].value_counts())"
   ]
  },
  {
   "cell_type": "code",
   "execution_count": 40,
   "id": "04cf01ba-5dc7-4862-880a-c4188f8e28ed",
   "metadata": {},
   "outputs": [],
   "source": [
    "# remove only one values and too many categories\n",
    "\n",
    "to_drop_columns = [\n",
    "    \"market_segment\",\n",
    "    \"type_of_area\",\n",
    "    \"eco_category\",\n",
    "    \"accessibility\",\n",
    "] + [\"listing_id\", \"name\", \"street\", \"subszone\"]"
   ]
  },
  {
   "cell_type": "code",
   "execution_count": 41,
   "id": "0f6a3fd3-438e-418c-ba7e-c3c0b07e23c1",
   "metadata": {},
   "outputs": [
    {
     "data": {
      "text/plain": [
       "(26048, 16)"
      ]
     },
     "execution_count": 41,
     "metadata": {},
     "output_type": "execute_result"
    }
   ],
   "source": [
    "train_df = train_df.drop(columns=to_drop_columns)\n",
    "train_df.shape"
   ]
  },
  {
   "cell_type": "code",
   "execution_count": 42,
   "id": "050dce46-b5f8-42e3-8b7a-56fbacb09dbc",
   "metadata": {},
   "outputs": [
    {
     "data": {
      "text/plain": [
       "(7500, 15)"
      ]
     },
     "execution_count": 42,
     "metadata": {},
     "output_type": "execute_result"
    }
   ],
   "source": [
    "test_df = test_df.drop(columns=to_drop_columns)\n",
    "test_df.shape"
   ]
  },
  {
   "cell_type": "code",
   "execution_count": 43,
   "id": "f7f270cf-7e62-4951-9a0d-3f482397043b",
   "metadata": {},
   "outputs": [
    {
     "data": {
      "text/plain": [
       "type                        object\n",
       "model                       object\n",
       "bedrooms                     int64\n",
       "bathrooms                  float64\n",
       "district                     int64\n",
       "region                      object\n",
       "planning_area               object\n",
       "lat                        float64\n",
       "lng                        float64\n",
       "freehold                     int64\n",
       "built_year                 float64\n",
       "no_of_units                float64\n",
       "area_size                  float64\n",
       "date_listed         datetime64[ns]\n",
       "price                      float64\n",
       "additional_rooms             int64\n",
       "dtype: object"
      ]
     },
     "execution_count": 43,
     "metadata": {},
     "output_type": "execute_result"
    }
   ],
   "source": [
    "train_df.dtypes"
   ]
  },
  {
   "cell_type": "code",
   "execution_count": 44,
   "id": "7c32e8e7-30fc-45e7-a32e-6f1a8fed0c61",
   "metadata": {},
   "outputs": [],
   "source": [
    "# split categorical and numerical features\n",
    "# cat_feature_names = [\n",
    "#     train_df.dtypes.index[i]\n",
    "#     for i in range(train_df.shape[1])\n",
    "#     if train_df.dtypes.values[i] == object\n",
    "# ]\n",
    "# num_feature_names = [\n",
    "#     train_df.dtypes.index[i]\n",
    "#     for i in range(train_df.shape[1])\n",
    "#     if train_df.dtypes.values[i] != object\n",
    "# ]"
   ]
  },
  {
   "cell_type": "code",
   "execution_count": null,
   "id": "30ad36eb-6252-4c08-9262-4ce2525000c7",
   "metadata": {},
   "outputs": [],
   "source": []
  },
  {
   "cell_type": "code",
   "execution_count": null,
   "id": "ea668f01-ac28-4d50-8f86-2c140ae00dc1",
   "metadata": {},
   "outputs": [],
   "source": []
  },
  {
   "cell_type": "markdown",
   "id": "1c0187a4-2a2b-4278-8c2e-39e7655e83dd",
   "metadata": {},
   "source": [
    "## Data pre-processing"
   ]
  },
  {
   "cell_type": "code",
   "execution_count": 45,
   "id": "df974e3b-ee41-4c8c-bab5-0060c373f7e6",
   "metadata": {},
   "outputs": [],
   "source": [
    "from sklearn import preprocessing"
   ]
  },
  {
   "cell_type": "markdown",
   "id": "82d973b9-8bb6-4527-8ce7-3370cccfb252",
   "metadata": {},
   "source": [
    "#### type\n",
    "\n",
    "encode categorical feature  \n",
    "apartment: 1  \n",
    "condo: 2"
   ]
  },
  {
   "cell_type": "code",
   "execution_count": 46,
   "id": "4941f86d-e8f7-4400-b6eb-6e7d985a9aa2",
   "metadata": {},
   "outputs": [
    {
     "data": {
      "text/html": [
       "<div>\n",
       "<style scoped>\n",
       "    .dataframe tbody tr th:only-of-type {\n",
       "        vertical-align: middle;\n",
       "    }\n",
       "\n",
       "    .dataframe tbody tr th {\n",
       "        vertical-align: top;\n",
       "    }\n",
       "\n",
       "    .dataframe thead th {\n",
       "        text-align: right;\n",
       "    }\n",
       "</style>\n",
       "<table border=\"1\" class=\"dataframe\">\n",
       "  <thead>\n",
       "    <tr style=\"text-align: right;\">\n",
       "      <th></th>\n",
       "      <th>type</th>\n",
       "    </tr>\n",
       "  </thead>\n",
       "  <tbody>\n",
       "    <tr>\n",
       "      <th>0</th>\n",
       "      <td>2</td>\n",
       "    </tr>\n",
       "    <tr>\n",
       "      <th>1</th>\n",
       "      <td>1</td>\n",
       "    </tr>\n",
       "    <tr>\n",
       "      <th>2</th>\n",
       "      <td>2</td>\n",
       "    </tr>\n",
       "    <tr>\n",
       "      <th>3</th>\n",
       "      <td>2</td>\n",
       "    </tr>\n",
       "    <tr>\n",
       "      <th>4</th>\n",
       "      <td>1</td>\n",
       "    </tr>\n",
       "  </tbody>\n",
       "</table>\n",
       "</div>"
      ],
      "text/plain": [
       "  type\n",
       "0    2\n",
       "1    1\n",
       "2    2\n",
       "3    2\n",
       "4    1"
      ]
     },
     "execution_count": 46,
     "metadata": {},
     "output_type": "execute_result"
    }
   ],
   "source": [
    "# training\n",
    "train_df.loc[train_df[\"type\"] == \"apartment\", \"type\"] = 1\n",
    "train_df.loc[train_df[\"type\"] == \"condominium\", \"type\"] = 2\n",
    "\n",
    "train_df[[\"type\"]].head()"
   ]
  },
  {
   "cell_type": "code",
   "execution_count": 47,
   "id": "896cf773-0b64-4931-91b8-4b5ea7e499ec",
   "metadata": {},
   "outputs": [
    {
     "data": {
      "text/html": [
       "<div>\n",
       "<style scoped>\n",
       "    .dataframe tbody tr th:only-of-type {\n",
       "        vertical-align: middle;\n",
       "    }\n",
       "\n",
       "    .dataframe tbody tr th {\n",
       "        vertical-align: top;\n",
       "    }\n",
       "\n",
       "    .dataframe thead th {\n",
       "        text-align: right;\n",
       "    }\n",
       "</style>\n",
       "<table border=\"1\" class=\"dataframe\">\n",
       "  <thead>\n",
       "    <tr style=\"text-align: right;\">\n",
       "      <th></th>\n",
       "      <th>type</th>\n",
       "    </tr>\n",
       "  </thead>\n",
       "  <tbody>\n",
       "    <tr>\n",
       "      <th>0</th>\n",
       "      <td>2</td>\n",
       "    </tr>\n",
       "    <tr>\n",
       "      <th>1</th>\n",
       "      <td>2</td>\n",
       "    </tr>\n",
       "    <tr>\n",
       "      <th>2</th>\n",
       "      <td>1</td>\n",
       "    </tr>\n",
       "    <tr>\n",
       "      <th>3</th>\n",
       "      <td>2</td>\n",
       "    </tr>\n",
       "    <tr>\n",
       "      <th>4</th>\n",
       "      <td>2</td>\n",
       "    </tr>\n",
       "  </tbody>\n",
       "</table>\n",
       "</div>"
      ],
      "text/plain": [
       "  type\n",
       "0    2\n",
       "1    2\n",
       "2    1\n",
       "3    2\n",
       "4    2"
      ]
     },
     "execution_count": 47,
     "metadata": {},
     "output_type": "execute_result"
    }
   ],
   "source": [
    "# testing\n",
    "test_df.loc[test_df[\"type\"] == \"apartment\", \"type\"] = 1\n",
    "test_df.loc[test_df[\"type\"] == \"condominium\", \"type\"] = 2\n",
    "\n",
    "test_df[[\"type\"]].head()\n"
   ]
  },
  {
   "cell_type": "markdown",
   "id": "a1b00c29-b778-4503-981e-2066518b187a",
   "metadata": {},
   "source": [
    "#### model  \n",
    "\n",
    "encode categorical feature"
   ]
  },
  {
   "cell_type": "code",
   "execution_count": null,
   "id": "40c5f5cf-3284-4fce-b550-df151e0a1ae3",
   "metadata": {},
   "outputs": [],
   "source": []
  },
  {
   "cell_type": "code",
   "execution_count": 48,
   "id": "c82a8528-4bf8-44de-b970-7705b50e82c4",
   "metadata": {},
   "outputs": [
    {
     "data": {
      "text/plain": [
       "model\n",
       "0        13859\n",
       "1        11480\n",
       "2          654\n",
       "3           55\n",
       "dtype: int64"
      ]
     },
     "execution_count": 48,
     "metadata": {},
     "output_type": "execute_result"
    }
   ],
   "source": [
    "# training\n",
    "le = preprocessing.LabelEncoder()\n",
    "train_df[\"model\"] = le.fit_transform(train_df[\"model\"])\n",
    "train_df[[\"model\"]].value_counts()"
   ]
  },
  {
   "cell_type": "code",
   "execution_count": 49,
   "id": "68df37bd-56eb-4509-a73b-3612a8a0137a",
   "metadata": {},
   "outputs": [
    {
     "data": {
      "text/plain": [
       "model\n",
       "0        3978\n",
       "1        3335\n",
       "2         179\n",
       "3           8\n",
       "dtype: int64"
      ]
     },
     "execution_count": 49,
     "metadata": {},
     "output_type": "execute_result"
    }
   ],
   "source": [
    "# testing\n",
    "test_df[\"model\"] = le.transform(test_df[\"model\"])\n",
    "test_df[[\"model\"]].value_counts()"
   ]
  },
  {
   "cell_type": "code",
   "execution_count": null,
   "id": "63012f7d-3077-4090-be5f-8920366dc1d0",
   "metadata": {},
   "outputs": [],
   "source": []
  },
  {
   "cell_type": "markdown",
   "id": "43298f78-48fd-42f4-ba53-385ca5703f74",
   "metadata": {},
   "source": [
    "#### region"
   ]
  },
  {
   "cell_type": "code",
   "execution_count": 50,
   "id": "2b98fd26-26bf-46c0-bfbf-de52d51294c2",
   "metadata": {},
   "outputs": [],
   "source": [
    "le = preprocessing.LabelEncoder()\n",
    "train_df[\"region\"] = le.fit_transform(train_df[\"region\"])\n",
    "test_df[\"region\"] = le.transform(test_df[\"region\"])"
   ]
  },
  {
   "cell_type": "markdown",
   "id": "bd462da3-18cc-4ce3-9565-a4aadef98ccf",
   "metadata": {},
   "source": [
    "#### planning area"
   ]
  },
  {
   "cell_type": "code",
   "execution_count": 51,
   "id": "22abe5e1-c6e3-44d7-ae0a-f035513ab0cf",
   "metadata": {},
   "outputs": [
    {
     "name": "stdout",
     "output_type": "stream",
     "text": [
      "['southern islands' 'novena' 'bedok' 'sembawang' 'bukit batok' 'sengkang'\n",
      " 'downtown core' 'newton' 'tampines' 'kallang' 'bukit merah'\n",
      " 'choa chu kang' 'bukit timah' 'outram' 'queenstown' 'river valley'\n",
      " 'singapore river' 'toa payoh' 'hougang' 'tanglin' 'pasir ris' 'geylang'\n",
      " 'museum' 'clementi' 'serangoon' 'jurong east' 'orchard' 'yishun'\n",
      " 'marine parade' 'bukit panjang' 'jurong west' 'ang mo kio' 'rochor'\n",
      " 'bishan' 'punggol' 'woodlands' 'mandai' 'changi' 'unknown']\n"
     ]
    }
   ],
   "source": [
    "le = preprocessing.LabelEncoder()\n",
    "\n",
    "unique_values = np.append(train_df[\"planning_area\"].unique(), 'unknown')\n",
    "print(unique_values)\n",
    "# training \n",
    "le.fit(unique_values)\n",
    "train_df[\"planning_area\"] = le.transform(train_df[\"planning_area\"])\n",
    "\n",
    "\n",
    "# testing\n",
    "test_df.loc[~test_df[\"planning_area\"].isin(unique_values), 'planning_area'] = 'unknown'\n",
    "test_df[\"planning_area\"] = le.transform(test_df[\"planning_area\"])"
   ]
  },
  {
   "cell_type": "markdown",
   "id": "72faa0a0-141e-4471-8d7a-33a217427826",
   "metadata": {},
   "source": [
    "#### built_year \n",
    "\n",
    "# todo convert to **years since built year**"
   ]
  },
  {
   "cell_type": "code",
   "execution_count": 52,
   "id": "fcfdccc6-89b0-4050-9067-48310e0b2016",
   "metadata": {},
   "outputs": [
    {
     "name": "stdout",
     "output_type": "stream",
     "text": [
      "Current date:  2022-03-08\n",
      "2022\n"
     ]
    }
   ],
   "source": [
    "from datetime import date\n",
    "  \n",
    "# creating the date object of today's date\n",
    "todays_date = date.today()\n",
    "  \n",
    "# printing todays date\n",
    "print(\"Current date: \", todays_date)\n",
    "  \n",
    "# fetching the current year, month and day of today\n",
    "current_year = todays_date.year\n",
    "current_month = todays_date.month\n",
    "\n",
    "print(current_year)\n",
    "\n"
   ]
  },
  {
   "cell_type": "code",
   "execution_count": 53,
   "id": "ff59368c-d35b-41e7-9927-d13929f11cb6",
   "metadata": {},
   "outputs": [
    {
     "name": "stdout",
     "output_type": "stream",
     "text": [
      "         built_year\n",
      "count  26048.000000\n",
      "mean      23.903025\n",
      "std       30.047675\n",
      "min       -1.000000\n",
      "25%        5.000000\n",
      "50%        9.000000\n",
      "75%       37.000000\n",
      "max      223.000000\n",
      "        built_year\n",
      "count  7500.000000\n",
      "mean     21.305867\n",
      "std      30.439879\n",
      "min      -1.000000\n",
      "25%       4.000000\n",
      "50%       8.000000\n",
      "75%      22.000000\n",
      "max     223.000000\n"
     ]
    }
   ],
   "source": [
    "# training\n",
    "train_df.loc[train_df['built_year'] > 0, 'built_year']= float(current_year) - train_df['built_year']\n",
    "\n",
    "print(train_df[['built_year']].describe())\n",
    "train_df = train_df.rename(columns={\"built_year\": \"since_built_year\"})\n",
    "\n",
    "\n",
    "# testing\n",
    "test_df.loc[test_df['built_year'] > 0, 'built_year']= float(current_year) - test_df['built_year']\n",
    "\n",
    "print(test_df[['built_year']].describe())\n",
    "\n",
    "test_df = test_df.rename(columns={\"built_year\": \"since_built_year\"})\n",
    "\n",
    "\n"
   ]
  },
  {
   "cell_type": "code",
   "execution_count": null,
   "id": "e68e5bc8-18c9-4d00-871f-c1b5cd843f69",
   "metadata": {},
   "outputs": [],
   "source": []
  },
  {
   "cell_type": "markdown",
   "id": "96b082da-48bc-418a-881e-5ae221e2034b",
   "metadata": {},
   "source": [
    "#### date_listed  \n"
   ]
  },
  {
   "cell_type": "code",
   "execution_count": 54,
   "id": "6790c580-6b50-4edb-8af4-93bed7ed272a",
   "metadata": {},
   "outputs": [],
   "source": [
    "\n",
    "today = pd.Timestamp(todays_date)\n",
    "\n",
    "\n",
    "# training\n",
    "\n",
    "train_df['date_listed'] = today.to_period('M') - train_df['date_listed'].dt.to_period('M')\n",
    "\n",
    "train_df['date_listed'] = train_df['date_listed'].astype('str')\n",
    "train_df['date_listed'] = train_df[\"date_listed\"].str.extract(\"(\\d+)\").astype(\"int\")\n",
    "\n",
    "train_df = train_df.rename(columns={\"date_listed\": \"since_listing_month\"})\n",
    "\n",
    "\n",
    "# testing\n",
    "\n",
    "test_df['date_listed'] = today.to_period('M') - test_df['date_listed'].dt.to_period('M')\n",
    "\n",
    "test_df['date_listed'] = test_df['date_listed'].astype('str')\n",
    "test_df['date_listed'] = test_df[\"date_listed\"].str.extract(\"(\\d+)\").astype(\"int\")\n",
    "\n",
    "test_df = test_df.rename(columns={\"date_listed\": \"since_listing_month\"})"
   ]
  },
  {
   "cell_type": "code",
   "execution_count": 55,
   "id": "2de22656-00cd-49af-ba82-0a138f217761",
   "metadata": {},
   "outputs": [],
   "source": [
    "train_df = train_df[np.append(train_df.columns[:-2], ['additional_rooms', 'price'])]\n",
    "\n",
    "\n"
   ]
  },
  {
   "cell_type": "code",
   "execution_count": 56,
   "id": "c0d1b97f-c3a5-4d50-9b2d-f4605f4e291c",
   "metadata": {},
   "outputs": [],
   "source": [
    "train_df.head()\n",
    "\n",
    "train_df.to_csv('./data/clean_train.csv')\n"
   ]
  },
  {
   "cell_type": "code",
   "execution_count": 57,
   "id": "c3753d17-2913-4891-9232-52723a1a027d",
   "metadata": {},
   "outputs": [],
   "source": [
    "test_df.head()\n",
    "test_df.to_csv('./data/clean_test.csv')\n",
    "\n"
   ]
  },
  {
   "cell_type": "code",
   "execution_count": null,
   "id": "491f5a52-7472-4794-8394-7c050a8cba72",
   "metadata": {},
   "outputs": [],
   "source": []
  }
 ],
 "metadata": {
  "kernelspec": {
   "display_name": "Python 3 (ipykernel)",
   "language": "python",
   "name": "python3"
  },
  "language_info": {
   "codemirror_mode": {
    "name": "ipython",
    "version": 3
   },
   "file_extension": ".py",
   "mimetype": "text/x-python",
   "name": "python",
   "nbconvert_exporter": "python",
   "pygments_lexer": "ipython3",
   "version": "3.9.6"
  }
 },
 "nbformat": 4,
 "nbformat_minor": 5
}
