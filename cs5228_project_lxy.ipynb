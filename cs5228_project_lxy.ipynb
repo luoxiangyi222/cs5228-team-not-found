{
 "cells": [
  {
   "cell_type": "markdown",
   "id": "bf9b3625-2531-46f9-ac75-9b3184e77796",
   "metadata": {},
   "source": [
    "\n",
    "# CS5228 Project - Team not found\n",
    "\n",
    "\n"
   ]
  },
  {
   "cell_type": "code",
   "execution_count": 388,
   "id": "ad03b75b-357b-4a5a-9745-7470401b3229",
   "metadata": {},
   "outputs": [],
   "source": [
    "# import packages\n",
    "\n",
    "import numpy as np\n",
    "import pandas as pd\n",
    "\n",
    "from src.utils import *"
   ]
  },
  {
   "cell_type": "markdown",
   "id": "53e6f6c1-d2df-4143-8b43-0c0e77db0119",
   "metadata": {},
   "source": [
    "## Load Data"
   ]
  },
  {
   "cell_type": "code",
   "execution_count": 389,
   "id": "7cb10fae-6ea9-4c99-b370-055c2cf8de80",
   "metadata": {},
   "outputs": [],
   "source": [
    "\n",
    "path = './'\n",
    "\n",
    "original_train_df = pd.read_csv(path + 'data/train.csv')\n",
    "original_test_df = pd.read_csv(path + 'data/test.csv')"
   ]
  },
  {
   "cell_type": "code",
   "execution_count": 390,
   "id": "cac608d0-2012-45a2-bbfd-e1460b0a275f",
   "metadata": {},
   "outputs": [],
   "source": [
    "# duplicate dataset\n",
    "\n",
    "train_df = original_train_df.copy()\n",
    "test_df = original_test_df.copy()"
   ]
  },
  {
   "cell_type": "code",
   "execution_count": 391,
   "id": "4ca43247-880d-4ff0-b273-13d3bd39dbd7",
   "metadata": {},
   "outputs": [
    {
     "name": "stdout",
     "output_type": "stream",
     "text": [
      "(26048, 23)\n",
      "(7500, 22)\n"
     ]
    }
   ],
   "source": [
    "print(train_df.shape)\n",
    "print(test_df.shape)"
   ]
  },
  {
   "cell_type": "code",
   "execution_count": 392,
   "id": "9dd19339-7f6d-45fc-b129-0583ae1de85c",
   "metadata": {},
   "outputs": [
    {
     "data": {
      "text/html": [
       "<div>\n",
       "<style scoped>\n",
       "    .dataframe tbody tr th:only-of-type {\n",
       "        vertical-align: middle;\n",
       "    }\n",
       "\n",
       "    .dataframe tbody tr th {\n",
       "        vertical-align: top;\n",
       "    }\n",
       "\n",
       "    .dataframe thead th {\n",
       "        text-align: right;\n",
       "    }\n",
       "</style>\n",
       "<table border=\"1\" class=\"dataframe\">\n",
       "  <thead>\n",
       "    <tr style=\"text-align: right;\">\n",
       "      <th></th>\n",
       "      <th>listing_id</th>\n",
       "      <th>name</th>\n",
       "      <th>street</th>\n",
       "      <th>type</th>\n",
       "      <th>model</th>\n",
       "      <th>market_segment</th>\n",
       "      <th>type_of_area</th>\n",
       "      <th>bedrooms</th>\n",
       "      <th>bathrooms</th>\n",
       "      <th>district</th>\n",
       "      <th>...</th>\n",
       "      <th>lat</th>\n",
       "      <th>lng</th>\n",
       "      <th>tenure</th>\n",
       "      <th>built_year</th>\n",
       "      <th>no_of_units</th>\n",
       "      <th>area_size</th>\n",
       "      <th>eco_category</th>\n",
       "      <th>accessibility</th>\n",
       "      <th>date_listed</th>\n",
       "      <th>price</th>\n",
       "    </tr>\n",
       "  </thead>\n",
       "  <tbody>\n",
       "    <tr>\n",
       "      <th>0</th>\n",
       "      <td>6998418</td>\n",
       "      <td>seascape</td>\n",
       "      <td>57 cove way</td>\n",
       "      <td>condominium</td>\n",
       "      <td>condominium</td>\n",
       "      <td>ocr</td>\n",
       "      <td>strata</td>\n",
       "      <td>3</td>\n",
       "      <td>4.0</td>\n",
       "      <td>4</td>\n",
       "      <td>...</td>\n",
       "      <td>1.239337</td>\n",
       "      <td>103.837487</td>\n",
       "      <td>leasehold/99 years</td>\n",
       "      <td>2011.0</td>\n",
       "      <td>151.0</td>\n",
       "      <td>2336.0</td>\n",
       "      <td>uncategorized</td>\n",
       "      <td>guarded</td>\n",
       "      <td>2021-05-04</td>\n",
       "      <td>5390000.0</td>\n",
       "    </tr>\n",
       "    <tr>\n",
       "      <th>1</th>\n",
       "      <td>2046604</td>\n",
       "      <td>la maison</td>\n",
       "      <td>10 moulmein rise</td>\n",
       "      <td>apartment</td>\n",
       "      <td>apartment</td>\n",
       "      <td>ocr</td>\n",
       "      <td>strata</td>\n",
       "      <td>3</td>\n",
       "      <td>3.0</td>\n",
       "      <td>11</td>\n",
       "      <td>...</td>\n",
       "      <td>1.319533</td>\n",
       "      <td>103.847030</td>\n",
       "      <td>freehold</td>\n",
       "      <td>1999.0</td>\n",
       "      <td>24.0</td>\n",
       "      <td>1259.0</td>\n",
       "      <td>uncategorized</td>\n",
       "      <td>guarded</td>\n",
       "      <td>2021-05-07</td>\n",
       "      <td>2310000.0</td>\n",
       "    </tr>\n",
       "    <tr>\n",
       "      <th>2</th>\n",
       "      <td>7563513</td>\n",
       "      <td>viva</td>\n",
       "      <td>2 suffolk walk</td>\n",
       "      <td>condominium</td>\n",
       "      <td>condominium</td>\n",
       "      <td>ocr</td>\n",
       "      <td>strata</td>\n",
       "      <td>4</td>\n",
       "      <td>3.0</td>\n",
       "      <td>11</td>\n",
       "      <td>...</td>\n",
       "      <td>1.315656</td>\n",
       "      <td>103.844445</td>\n",
       "      <td>freehold</td>\n",
       "      <td>2012.0</td>\n",
       "      <td>235.0</td>\n",
       "      <td>1959.0</td>\n",
       "      <td>uncategorized</td>\n",
       "      <td>guarded</td>\n",
       "      <td>2021-06-30</td>\n",
       "      <td>5279500.0</td>\n",
       "    </tr>\n",
       "    <tr>\n",
       "      <th>3</th>\n",
       "      <td>3071445</td>\n",
       "      <td>urban treasures</td>\n",
       "      <td>205 jalan eunos</td>\n",
       "      <td>condominium</td>\n",
       "      <td>condominium</td>\n",
       "      <td>ocr</td>\n",
       "      <td>strata</td>\n",
       "      <td>3</td>\n",
       "      <td>2.0</td>\n",
       "      <td>14</td>\n",
       "      <td>...</td>\n",
       "      <td>1.329367</td>\n",
       "      <td>103.905791</td>\n",
       "      <td>freehold</td>\n",
       "      <td>NaN</td>\n",
       "      <td>237.0</td>\n",
       "      <td>883.0</td>\n",
       "      <td>uncategorized</td>\n",
       "      <td>guarded</td>\n",
       "      <td>2022-01-02</td>\n",
       "      <td>1843600.0</td>\n",
       "    </tr>\n",
       "    <tr>\n",
       "      <th>4</th>\n",
       "      <td>9667539</td>\n",
       "      <td>infini at east coast</td>\n",
       "      <td>east coast road</td>\n",
       "      <td>apartment</td>\n",
       "      <td>apartment</td>\n",
       "      <td>ocr</td>\n",
       "      <td>strata</td>\n",
       "      <td>3</td>\n",
       "      <td>3.0</td>\n",
       "      <td>15</td>\n",
       "      <td>...</td>\n",
       "      <td>1.309176</td>\n",
       "      <td>103.911352</td>\n",
       "      <td>freehold</td>\n",
       "      <td>NaN</td>\n",
       "      <td>36.0</td>\n",
       "      <td>1066.0</td>\n",
       "      <td>uncategorized</td>\n",
       "      <td>guarded</td>\n",
       "      <td>2021-12-24</td>\n",
       "      <td>2262700.0</td>\n",
       "    </tr>\n",
       "  </tbody>\n",
       "</table>\n",
       "<p>5 rows × 23 columns</p>\n",
       "</div>"
      ],
      "text/plain": [
       "   listing_id                  name             street         type  \\\n",
       "0     6998418              seascape       57 cove way   condominium   \n",
       "1     2046604             la maison  10 moulmein rise     apartment   \n",
       "2     7563513                  viva    2 suffolk walk   condominium   \n",
       "3     3071445       urban treasures   205 jalan eunos   condominium   \n",
       "4     9667539  infini at east coast    east coast road    apartment   \n",
       "\n",
       "         model market_segment type_of_area bedrooms  bathrooms  district  ...  \\\n",
       "0  condominium            ocr       strata        3        4.0         4  ...   \n",
       "1    apartment            ocr       strata        3        3.0        11  ...   \n",
       "2  condominium            ocr       strata        4        3.0        11  ...   \n",
       "3  condominium            ocr       strata        3        2.0        14  ...   \n",
       "4    apartment            ocr       strata        3        3.0        15  ...   \n",
       "\n",
       "        lat         lng              tenure  built_year  no_of_units  \\\n",
       "0  1.239337  103.837487  leasehold/99 years      2011.0        151.0   \n",
       "1  1.319533  103.847030            freehold      1999.0         24.0   \n",
       "2  1.315656  103.844445            freehold      2012.0        235.0   \n",
       "3  1.329367  103.905791            freehold         NaN        237.0   \n",
       "4  1.309176  103.911352            freehold         NaN         36.0   \n",
       "\n",
       "  area_size   eco_category  accessibility  date_listed      price  \n",
       "0    2336.0  uncategorized        guarded   2021-05-04  5390000.0  \n",
       "1    1259.0  uncategorized        guarded   2021-05-07  2310000.0  \n",
       "2    1959.0  uncategorized        guarded   2021-06-30  5279500.0  \n",
       "3     883.0  uncategorized        guarded   2022-01-02  1843600.0  \n",
       "4    1066.0  uncategorized        guarded   2021-12-24  2262700.0  \n",
       "\n",
       "[5 rows x 23 columns]"
      ]
     },
     "execution_count": 392,
     "metadata": {},
     "output_type": "execute_result"
    }
   ],
   "source": [
    "train_df.head()"
   ]
  },
  {
   "cell_type": "code",
   "execution_count": 393,
   "id": "bdbfbaf2-c4c6-4cc9-a7a5-cc34e8f55a62",
   "metadata": {},
   "outputs": [
    {
     "name": "stdout",
     "output_type": "stream",
     "text": [
      "listing_id          int64\n",
      "name               object\n",
      "street             object\n",
      "type               object\n",
      "model              object\n",
      "market_segment     object\n",
      "type_of_area       object\n",
      "bedrooms           object\n",
      "bathrooms         float64\n",
      "district            int64\n",
      "region             object\n",
      "planning_area      object\n",
      "subszone           object\n",
      "lat               float64\n",
      "lng               float64\n",
      "tenure             object\n",
      "built_year        float64\n",
      "no_of_units       float64\n",
      "area_size         float64\n",
      "eco_category       object\n",
      "accessibility      object\n",
      "date_listed        object\n",
      "price             float64\n",
      "dtype: object\n"
     ]
    }
   ],
   "source": [
    "print(train_df.dtypes)"
   ]
  },
  {
   "cell_type": "markdown",
   "id": "f428dc3c-0918-4e1d-b1f8-8335fcfe61d6",
   "metadata": {},
   "source": [
    "## Data Cleaning"
   ]
  },
  {
   "cell_type": "markdown",
   "id": "01ed8984-7820-4b84-9ca0-055ce60ab818",
   "metadata": {},
   "source": [
    "### Check null value"
   ]
  },
  {
   "cell_type": "code",
   "execution_count": 394,
   "id": "cc5f40e7-7043-4ce6-b151-630b5c812d54",
   "metadata": {},
   "outputs": [
    {
     "data": {
      "text/plain": [
       "listing_id            0\n",
       "name                  0\n",
       "street                0\n",
       "type                  0\n",
       "model              1280\n",
       "market_segment        0\n",
       "type_of_area          0\n",
       "bedrooms            404\n",
       "bathrooms          1236\n",
       "district              0\n",
       "region                0\n",
       "planning_area         0\n",
       "subszone              0\n",
       "lat                   0\n",
       "lng                   0\n",
       "tenure              287\n",
       "built_year        10043\n",
       "no_of_units        1042\n",
       "area_size             2\n",
       "eco_category          0\n",
       "accessibility         0\n",
       "date_listed           0\n",
       "price                 0\n",
       "dtype: int64"
      ]
     },
     "execution_count": 394,
     "metadata": {},
     "output_type": "execute_result"
    }
   ],
   "source": [
    "\n",
    "# combine train and test \n",
    "\n",
    "train_test_df = pd.concat([train_df, test_df], axis=0)\n",
    "\n",
    "compute_null_count(original_train_df)"
   ]
  },
  {
   "cell_type": "markdown",
   "id": "d36895ed-1a13-4c0c-ba86-37cbee62f9dd",
   "metadata": {},
   "source": [
    "#### model"
   ]
  },
  {
   "cell_type": "code",
   "execution_count": 395,
   "id": "6b25cb0e-30a2-41d1-8c86-b5f1283bcbca",
   "metadata": {},
   "outputs": [
    {
     "name": "stdout",
     "output_type": "stream",
     "text": [
      "model    1280\n",
      "dtype: int64\n",
      "model    24\n",
      "dtype: int64\n",
      "model    0\n",
      "dtype: int64\n"
     ]
    }
   ],
   "source": [
    "# training \n",
    "\n",
    "print(compute_null_count(original_train_df, [\"model\"]))\n",
    "\n",
    "# fill null with the same property name\n",
    "train_df = fill_missing_value_by_group_neighbor(train_df, 'model', 'name')\n",
    "print(compute_null_count(train_df, [\"model\"]))\n",
    "\n",
    "# fill null by mode\n",
    "train_df, mode = fill_missing_value_by_mode(train_df, \"model\")\n",
    "print(compute_null_count(train_df, [\"model\"]))\n"
   ]
  },
  {
   "cell_type": "code",
   "execution_count": 396,
   "id": "cad6381c-caf6-4356-9d59-6c5c5f5e12d2",
   "metadata": {},
   "outputs": [
    {
     "name": "stdout",
     "output_type": "stream",
     "text": [
      "model    388\n",
      "dtype: int64\n",
      "model    20\n",
      "dtype: int64\n",
      "model    0\n",
      "dtype: int64\n"
     ]
    }
   ],
   "source": [
    "# testing\n",
    "print(compute_null_count(test_df, [\"model\"]))\n",
    "\n",
    "test_df = fill_missing_value_by_group_neighbor(test_df, \"model\", \"name\")\n",
    "print(compute_null_count(test_df, [\"model\"]))\n",
    "\n",
    "test_df, mode = fill_missing_value_by_mode(test_df, 'model')\n",
    "print(compute_null_count(test_df, [\"model\"]))"
   ]
  },
  {
   "cell_type": "markdown",
   "id": "3b73664a-3f16-4024-a0a0-6e62d0836eb3",
   "metadata": {},
   "source": [
    "#### area size"
   ]
  },
  {
   "cell_type": "code",
   "execution_count": 397,
   "id": "49551c99-3c4d-4495-86b8-8e3a05e5f125",
   "metadata": {},
   "outputs": [],
   "source": [
    "# area_size\n",
    "\n",
    "# fill null by median\n",
    "train_df.loc[train_df['area_size'].isnull(), 'area_size'] = train_df['area_size'].median()"
   ]
  },
  {
   "cell_type": "code",
   "execution_count": 398,
   "id": "f482ce5d-5006-41df-9757-1896761f10d7",
   "metadata": {},
   "outputs": [
    {
     "data": {
      "text/html": [
       "<div>\n",
       "<style scoped>\n",
       "    .dataframe tbody tr th:only-of-type {\n",
       "        vertical-align: middle;\n",
       "    }\n",
       "\n",
       "    .dataframe tbody tr th {\n",
       "        vertical-align: top;\n",
       "    }\n",
       "\n",
       "    .dataframe thead th {\n",
       "        text-align: right;\n",
       "    }\n",
       "</style>\n",
       "<table border=\"1\" class=\"dataframe\">\n",
       "  <thead>\n",
       "    <tr style=\"text-align: right;\">\n",
       "      <th></th>\n",
       "      <th>k</th>\n",
       "      <th>g</th>\n",
       "      <th>value</th>\n",
       "    </tr>\n",
       "  </thead>\n",
       "  <tbody>\n",
       "    <tr>\n",
       "      <th>0</th>\n",
       "      <td>a</td>\n",
       "      <td>6.2</td>\n",
       "      <td>1.0</td>\n",
       "    </tr>\n",
       "    <tr>\n",
       "      <th>1</th>\n",
       "      <td>b</td>\n",
       "      <td>0.0</td>\n",
       "      <td>NaN</td>\n",
       "    </tr>\n",
       "    <tr>\n",
       "      <th>2</th>\n",
       "      <td>b</td>\n",
       "      <td>1.5</td>\n",
       "      <td>6.0</td>\n",
       "    </tr>\n",
       "    <tr>\n",
       "      <th>3</th>\n",
       "      <td>c</td>\n",
       "      <td>1.6</td>\n",
       "      <td>7.0</td>\n",
       "    </tr>\n",
       "    <tr>\n",
       "      <th>4</th>\n",
       "      <td>a</td>\n",
       "      <td>2.0</td>\n",
       "      <td>NaN</td>\n",
       "    </tr>\n",
       "  </tbody>\n",
       "</table>\n",
       "</div>"
      ],
      "text/plain": [
       "   k    g  value\n",
       "0  a  6.2    1.0\n",
       "1  b  0.0    NaN\n",
       "2  b  1.5    6.0\n",
       "3  c  1.6    7.0\n",
       "4  a  2.0    NaN"
      ]
     },
     "metadata": {},
     "output_type": "display_data"
    },
    {
     "data": {
      "text/html": [
       "<div>\n",
       "<style scoped>\n",
       "    .dataframe tbody tr th:only-of-type {\n",
       "        vertical-align: middle;\n",
       "    }\n",
       "\n",
       "    .dataframe tbody tr th {\n",
       "        vertical-align: top;\n",
       "    }\n",
       "\n",
       "    .dataframe thead th {\n",
       "        text-align: right;\n",
       "    }\n",
       "</style>\n",
       "<table border=\"1\" class=\"dataframe\">\n",
       "  <thead>\n",
       "    <tr style=\"text-align: right;\">\n",
       "      <th></th>\n",
       "      <th>k</th>\n",
       "      <th>g</th>\n",
       "      <th>value</th>\n",
       "    </tr>\n",
       "  </thead>\n",
       "  <tbody>\n",
       "    <tr>\n",
       "      <th>0</th>\n",
       "      <td>a</td>\n",
       "      <td>6.2</td>\n",
       "      <td>1.0</td>\n",
       "    </tr>\n",
       "    <tr>\n",
       "      <th>1</th>\n",
       "      <td>b</td>\n",
       "      <td>0.0</td>\n",
       "      <td>6.0</td>\n",
       "    </tr>\n",
       "    <tr>\n",
       "      <th>2</th>\n",
       "      <td>b</td>\n",
       "      <td>1.5</td>\n",
       "      <td>6.0</td>\n",
       "    </tr>\n",
       "    <tr>\n",
       "      <th>3</th>\n",
       "      <td>c</td>\n",
       "      <td>1.6</td>\n",
       "      <td>7.0</td>\n",
       "    </tr>\n",
       "    <tr>\n",
       "      <th>4</th>\n",
       "      <td>a</td>\n",
       "      <td>2.0</td>\n",
       "      <td>1.0</td>\n",
       "    </tr>\n",
       "  </tbody>\n",
       "</table>\n",
       "</div>"
      ],
      "text/plain": [
       "   k    g  value\n",
       "0  a  6.2    1.0\n",
       "1  b  0.0    6.0\n",
       "2  b  1.5    6.0\n",
       "3  c  1.6    7.0\n",
       "4  a  2.0    1.0"
      ]
     },
     "metadata": {},
     "output_type": "display_data"
    }
   ],
   "source": [
    "# test code\n",
    "\n",
    "df = pd.DataFrame([['a', 6.2,  1], ['b', 0., None], ['b', 1.5, 6], ['c', 1.6, 7], ['a',2., None]])\n",
    "\n",
    "df.columns = ['k', 'g', 'value']\n",
    "\n",
    "display(df)\n",
    "\n",
    "df = fill_missing_value_by_group_neighbor(df, 'value', 'k')\n",
    "\n",
    "display(df)"
   ]
  },
  {
   "cell_type": "markdown",
   "id": "c09f47d4-a7bd-4105-9d6c-59bbb21ecfd9",
   "metadata": {},
   "source": [
    "#### bedroom"
   ]
  },
  {
   "cell_type": "code",
   "execution_count": 399,
   "id": "a9719602-9eaf-471f-b2ad-be52f5b226f4",
   "metadata": {},
   "outputs": [
    {
     "name": "stdout",
     "output_type": "stream",
     "text": [
      "bedrooms    404\n",
      "dtype: int64\n",
      "bedrooms    0\n",
      "dtype: int64\n"
     ]
    }
   ],
   "source": [
    "# training\n",
    "\n",
    "# break into bedrooms and additional rooms\n",
    "print(compute_null_count(train_df, ['bedrooms']))\n",
    "\n",
    "# fill null according to area size\n",
    "train_df = fill_missing_value_by_neighbor(train_df, 'bedrooms', 'area_size')\n",
    "\n",
    "print(compute_null_count(train_df, ['bedrooms']))\n",
    "\n",
    "\n",
    "# split to two columns\n",
    "train_df[['bedrooms', 'additional_rooms']] = train_df['bedrooms'].str.split('+', expand=True).fillna(0)\n",
    "train_df[['bedrooms', 'additional_rooms']] = train_df[['bedrooms', 'additional_rooms']].astype('int')"
   ]
  },
  {
   "cell_type": "code",
   "execution_count": 400,
   "id": "15001c15-d14b-4622-a8e1-c82b4bc7fc82",
   "metadata": {},
   "outputs": [
    {
     "name": "stdout",
     "output_type": "stream",
     "text": [
      "bedrooms    118\n",
      "dtype: int64\n",
      "bedrooms            0\n",
      "additional_rooms    0\n",
      "dtype: int64\n"
     ]
    }
   ],
   "source": [
    "# testing\n",
    "\n",
    "print(compute_null_count(test_df, ['bedrooms']))\n",
    "\n",
    "# fill null according to area size\n",
    "test_df = fill_missing_value_by_neighbor(test_df, 'bedrooms', 'area_size')\n",
    "# print(compute_null_count(test_df, ['bedrooms']))\n",
    "\n",
    "test_df[['bedrooms']] = test_df[['bedrooms']].fillna(1)\n",
    "\n",
    "# split to to columns\n",
    "test_df[['bedrooms', 'additional_rooms']] = test_df['bedrooms'].str.split('+', expand=True)\n",
    "test_df[['bedrooms', 'additional_rooms']] = test_df[['bedrooms', 'additional_rooms']].replace(r'', np.nan)\n",
    "test_df[['bedrooms', 'additional_rooms']] = test_df[['bedrooms', 'additional_rooms']].fillna(0)\n",
    "test_df[['bedrooms', 'additional_rooms']] = test_df[['bedrooms', 'additional_rooms']].astype('int')\n",
    "\n",
    "print(compute_null_count(test_df, ['bedrooms', 'additional_rooms']))"
   ]
  },
  {
   "cell_type": "markdown",
   "id": "c639354d-8931-4930-b7fe-95d685bc0706",
   "metadata": {},
   "source": [
    "#### bathroom\n"
   ]
  },
  {
   "cell_type": "code",
   "execution_count": 401,
   "id": "04a60f60-8a4e-41d0-9e60-8438f9480b77",
   "metadata": {},
   "outputs": [
    {
     "name": "stdout",
     "output_type": "stream",
     "text": [
      "bathrooms    1236\n",
      "dtype: int64\n",
      "bathrooms    0\n",
      "dtype: int64\n"
     ]
    }
   ],
   "source": [
    "# training\n",
    "print(compute_null_count(train_df, ['bathrooms']))\n",
    "\n",
    "# fill null by bedrooms\n",
    "train_df = fill_missing_value_by_neighbor(train_df, 'bathrooms', 'bedrooms')\n",
    "print(compute_null_count(train_df, ['bathrooms']))"
   ]
  },
  {
   "cell_type": "code",
   "execution_count": 402,
   "id": "1714810c-733b-45c1-a39e-5283700ca1f8",
   "metadata": {},
   "outputs": [
    {
     "name": "stdout",
     "output_type": "stream",
     "text": [
      "bathrooms    337\n",
      "dtype: int64\n",
      "bathrooms    0\n",
      "dtype: int64\n"
     ]
    }
   ],
   "source": [
    "# testing\n",
    "print(compute_null_count(test_df, ['bathrooms']))\n",
    "\n",
    "test_df = fill_missing_value_by_neighbor(test_df, 'bathrooms', 'bedrooms')\n",
    "print(compute_null_count(test_df, ['bathrooms']))\n"
   ]
  },
  {
   "cell_type": "markdown",
   "id": "cc0515a2-6454-403d-8001-af425663ce1d",
   "metadata": {},
   "source": [
    "#### tenure\n",
    "\n",
    "https://www.propertyguru.com.sg/property-guides/singapore-freehold-vs-leasehold-which-is-better-9520"
   ]
  },
  {
   "cell_type": "code",
   "execution_count": null,
   "id": "c7bf70ee-e526-4aa9-a15e-99d455315383",
   "metadata": {},
   "outputs": [
    {
     "name": "stdout",
     "output_type": "stream",
     "text": [
      "tenure    287\n",
      "dtype: int64\n"
     ]
    }
   ],
   "source": [
    "# training\n",
    "\n",
    "# fill null by name \n",
    "print(compute_null_count(train_df, ['tenure']))\n",
    "train_df = fill_missing_value_by_group_neighbor(train_df, 'tenure', 'name')\n",
    "print(compute_null_count(train_df, ['tenure']))\n",
    "\n",
    "# fill null by street\n",
    "train_df = fill_missing_value_by_group_neighbor(train_df, 'tenure', 'street')\n",
    "print(compute_null_count(train_df, ['tenure']))\n",
    "\n",
    "# by mode \n",
    "train_df['tenure'] = train_df['tenure'].fillna(train_df[['tenure']].mode().iloc[0, 0])\n",
    "\n",
    "# convert to binary columns freehold\n",
    "\n"
   ]
  },
  {
   "cell_type": "code",
   "execution_count": null,
   "id": "3b0e9f9c-f7f4-4444-814e-cc26e8e72905",
   "metadata": {},
   "outputs": [],
   "source": [
    "\n",
    "# change freehold to 999\n",
    "train_df.loc[train_df['tenure'] == 'freehold', 'tenure'] = '999 years'\n",
    "\n",
    "\n",
    "freehold = train_df['tenure'].str.extract('(\\d+)').astype('int')\n",
    "\n",
    "freehold[freehold <= 99] = 0\n",
    "freehold[freehold > 99] = 1\n",
    "\n",
    "train_df = train_df.rename(columns={'tenure': 'freehold'})\n",
    "train_df['freehold'] = freehold\n"
   ]
  },
  {
   "cell_type": "code",
   "execution_count": null,
   "id": "a0ee6111-429d-4943-9fd8-07555b8eb59b",
   "metadata": {},
   "outputs": [],
   "source": [
    "# testing\n",
    "# fill null by name\n",
    "print(compute_null_count(test_df, ['tenure']))\n",
    "test_df = fill_missing_value_by_group_neighbor(test_df, 'tenure', 'name')\n",
    "print(compute_null_count(test_df, ['tenure']))\n",
    "\n",
    "# by street\n",
    "test_df = fill_missing_value_by_group_neighbor(test_df, 'tenure', 'street')\n",
    "print(compute_null_count(test_df, ['tenure']))\n",
    "\n",
    "# by mode\n",
    "test_df['tenure'] = test_df['tenure'].fillna(train_test_df[['tenure']].mode().iloc[0, 0])\n",
    "print(compute_null_count(test_df, ['tenure']))"
   ]
  },
  {
   "cell_type": "code",
   "execution_count": null,
   "id": "d6b78589-5c98-41ea-920f-fbfc5e45ddc6",
   "metadata": {},
   "outputs": [],
   "source": [
    "\n",
    "# change freehold to 999\n",
    "test_df.loc[test_df['tenure'] == 'freehold', 'tenure'] = '999 years'\n",
    "\n",
    "freehold = test_df['tenure'].str.extract('(\\d+)').astype('int')\n",
    "\n",
    "\n",
    "freehold[freehold <= 99] = 0\n",
    "freehold[freehold > 99] = 1\n",
    "\n",
    "test_df = test_df.rename(columns={'tenure': 'freehold'})\n",
    "test_df['freehold'] = freehold\n",
    "\n",
    "\n",
    "test_df[['freehold']].value_counts()"
   ]
  },
  {
   "cell_type": "markdown",
   "id": "cfe7de1f-413f-40e0-930e-834dabacab8c",
   "metadata": {},
   "source": [
    "#### built year"
   ]
  },
  {
   "cell_type": "code",
   "execution_count": null,
   "id": "60ec4958-952d-44c4-9638-c7d9f625ff2b",
   "metadata": {},
   "outputs": [],
   "source": [
    "# training\n",
    "\n",
    "# fill null \n",
    "print(compute_null_count(train_df, ['built_year']))\n",
    "\n",
    "# by name\n",
    "train_df = fill_missing_value_by_group_neighbor(train_df, 'built_year', 'name')\n",
    "print(compute_null_count(train_df, ['built_year']))\n",
    "\n",
    "# filled by 'unknown'\n",
    "train_df['built_year'] = train_df['built_year'].fillna('unknown')\n",
    "print(compute_null_count(train_df, ['built_year']))"
   ]
  },
  {
   "cell_type": "code",
   "execution_count": null,
   "id": "722ffdc0-a352-4214-91b2-c51bac025aa7",
   "metadata": {},
   "outputs": [],
   "source": [
    "# testing\n",
    "\n",
    "# fill null \n",
    "print(compute_null_count(test_df, ['built_year']))\n",
    "\n",
    "# by name\n",
    "test_df = fill_missing_value_by_group_neighbor(test_df, 'built_year', 'name')\n",
    "print(compute_null_count(test_df, ['built_year']))\n",
    "\n",
    "# filled by 'unknown'\n",
    "test_df['built_year'] = test_df['built_year'].fillna('unknown')\n",
    "print(compute_null_count(test_df, ['built_year']))"
   ]
  },
  {
   "cell_type": "markdown",
   "id": "d85387a0-8350-4323-b04e-2ec5e1c49afa",
   "metadata": {},
   "source": [
    "#### no_of_units"
   ]
  },
  {
   "cell_type": "code",
   "execution_count": null,
   "id": "e0da228f-5ec8-43fa-b376-31c8393fc885",
   "metadata": {},
   "outputs": [],
   "source": [
    "# training\n",
    "print(compute_null_count(train_df, ['no_of_units']))\n",
    "\n",
    "\n",
    "# by name\n",
    "train_df = fill_missing_value_by_group_neighbor(train_df, 'no_of_units', 'name')\n",
    "print(compute_null_count(train_df, ['no_of_units']))\n",
    "\n",
    "\n",
    "# by mean\n",
    "train_df['no_of_units'] = train_df['no_of_units'].fillna(train_df['no_of_units'].mean())\n",
    "print(compute_null_count(train_df, ['no_of_units']))\n",
    "\n"
   ]
  },
  {
   "cell_type": "code",
   "execution_count": null,
   "id": "1871e1df-e0f6-493a-bfeb-f462b30ac131",
   "metadata": {},
   "outputs": [],
   "source": [
    "# testing\n",
    "print(compute_null_count(test_df, ['no_of_units']))\n",
    "\n",
    "\n",
    "# by name\n",
    "test_df = fill_missing_value_by_group_neighbor(test_df, 'no_of_units', 'name')\n",
    "print(compute_null_count(test_df, ['no_of_units']))\n",
    "\n",
    "\n",
    "# by mean\n",
    "test_df['no_of_units'] = test_df['no_of_units'].fillna(train_test_df['no_of_units'].mean())\n",
    "print(compute_null_count(test_df, ['no_of_units']))\n",
    "\n",
    "\n"
   ]
  },
  {
   "cell_type": "markdown",
   "id": "c40e82b9-94f5-496a-9868-22f502dc2298",
   "metadata": {},
   "source": [
    "#### date_listed"
   ]
  },
  {
   "cell_type": "code",
   "execution_count": null,
   "id": "95b2e29e-be94-4e72-9f20-59fb1882de47",
   "metadata": {},
   "outputs": [],
   "source": [
    "train_df['date_listed'] = pd.to_datetime(train_df['date_listed'])\n",
    "test_df['date_listed'] = pd.to_datetime(test_df['date_listed'])"
   ]
  },
  {
   "cell_type": "code",
   "execution_count": null,
   "id": "8bf2eb5c-4fb7-4ab4-b7cd-dee6e7ba8395",
   "metadata": {},
   "outputs": [],
   "source": [
    "# check null\n",
    "compute_null_count(train_df)"
   ]
  },
  {
   "cell_type": "code",
   "execution_count": null,
   "id": "606775cb-5872-40d4-a64e-c825dd4eddbc",
   "metadata": {},
   "outputs": [],
   "source": [
    "compute_null_count(test_df)"
   ]
  },
  {
   "cell_type": "markdown",
   "id": "c324bfc3-0c46-4121-9202-1b62e1570274",
   "metadata": {},
   "source": [
    "### Check duplicates"
   ]
  },
  {
   "cell_type": "code",
   "execution_count": null,
   "id": "9d4e4a5d-f2f5-4467-8c06-abb01e5cb1e2",
   "metadata": {},
   "outputs": [],
   "source": [
    "print(np.sum(train_df['listing_id'].duplicated()))\n",
    "print(np.sum(test_df['listing_id'].duplicated()))"
   ]
  },
  {
   "cell_type": "markdown",
   "id": "4a357a01-f13c-4abe-a843-cb1e94bd5552",
   "metadata": {},
   "source": [
    "### Drop useless columns\n",
    "\n"
   ]
  },
  {
   "cell_type": "code",
   "execution_count": null,
   "id": "a0137377-0a63-439f-a91d-0fffeea9db12",
   "metadata": {},
   "outputs": [],
   "source": [
    "print(train_df['market_segment'].value_counts())\n",
    "print(train_df['type_of_area'].value_counts())\n",
    "print(train_df['eco_category'].value_counts())\n",
    "print(train_df['accessibility'].value_counts())"
   ]
  },
  {
   "cell_type": "code",
   "execution_count": null,
   "id": "35378dfd-4239-4f48-aa29-26bd18c07112",
   "metadata": {},
   "outputs": [],
   "source": [
    "print(test_df['market_segment'].value_counts())\n",
    "print(test_df['type_of_area'].value_counts())\n",
    "print(test_df['eco_category'].value_counts())\n",
    "print(test_df['accessibility'].value_counts())"
   ]
  },
  {
   "cell_type": "code",
   "execution_count": null,
   "id": "04cf01ba-5dc7-4862-880a-c4188f8e28ed",
   "metadata": {},
   "outputs": [],
   "source": [
    "# remove only one values and too many categories\n",
    "\n",
    "to_drop_columns = ['market_segment', 'type_of_area', 'eco_category', 'accessibility'] + \\\n",
    "                    ['listing_id', 'name', 'street', 'subszone']\n"
   ]
  },
  {
   "cell_type": "code",
   "execution_count": null,
   "id": "0f6a3fd3-438e-418c-ba7e-c3c0b07e23c1",
   "metadata": {},
   "outputs": [],
   "source": [
    "train_df = train_df.drop(columns=to_drop_columns)\n",
    "train_df.shape"
   ]
  },
  {
   "cell_type": "code",
   "execution_count": null,
   "id": "050dce46-b5f8-42e3-8b7a-56fbacb09dbc",
   "metadata": {},
   "outputs": [],
   "source": [
    "test_df = test_df.drop(columns=to_drop_columns)\n",
    "test_df.shape"
   ]
  },
  {
   "cell_type": "code",
   "execution_count": null,
   "id": "f7f270cf-7e62-4951-9a0d-3f482397043b",
   "metadata": {},
   "outputs": [],
   "source": []
  },
  {
   "cell_type": "code",
   "execution_count": null,
   "id": "7a7997bb-3306-4eae-b3bf-d83ecf065e1c",
   "metadata": {},
   "outputs": [],
   "source": []
  },
  {
   "cell_type": "code",
   "execution_count": null,
   "id": "c83b6df6-6b37-472d-83df-79747c101aa1",
   "metadata": {},
   "outputs": [],
   "source": []
  },
  {
   "cell_type": "code",
   "execution_count": null,
   "id": "e66afbb7-f9f6-4eab-a5c1-163e8421c2a8",
   "metadata": {},
   "outputs": [],
   "source": []
  },
  {
   "cell_type": "code",
   "execution_count": null,
   "id": "27bae664-ff88-4fdd-87a7-8a8d4161e0c9",
   "metadata": {},
   "outputs": [],
   "source": []
  },
  {
   "cell_type": "code",
   "execution_count": null,
   "id": "d9d05c72-4689-4816-bf24-55dd6256abcf",
   "metadata": {},
   "outputs": [],
   "source": []
  },
  {
   "cell_type": "code",
   "execution_count": null,
   "id": "7c32e8e7-30fc-45e7-a32e-6f1a8fed0c61",
   "metadata": {},
   "outputs": [],
   "source": [
    "# split categorical and numerical features \n",
    "cat_feature_names = [train_df.dtypes.index[i] for i in range(train_df.shape[1]) if train_df.dtypes.values[i] == object]\n",
    "num_feature_names = [train_df.dtypes.index[i] for i in range(train_df.shape[1]) if train_df.dtypes.values[i] != object]"
   ]
  },
  {
   "cell_type": "code",
   "execution_count": null,
   "id": "30ad36eb-6252-4c08-9262-4ce2525000c7",
   "metadata": {},
   "outputs": [],
   "source": [
    "\n"
   ]
  },
  {
   "cell_type": "code",
   "execution_count": null,
   "id": "ea668f01-ac28-4d50-8f86-2c140ae00dc1",
   "metadata": {},
   "outputs": [],
   "source": []
  },
  {
   "cell_type": "markdown",
   "id": "1c0187a4-2a2b-4278-8c2e-39e7655e83dd",
   "metadata": {},
   "source": [
    "### Categorical features"
   ]
  },
  {
   "cell_type": "code",
   "execution_count": null,
   "id": "78d87ca0-306f-4218-bda8-18fbc9221e1b",
   "metadata": {},
   "outputs": [],
   "source": []
  },
  {
   "cell_type": "code",
   "execution_count": null,
   "id": "40c5f5cf-3284-4fce-b550-df151e0a1ae3",
   "metadata": {},
   "outputs": [],
   "source": []
  },
  {
   "cell_type": "code",
   "execution_count": null,
   "id": "c82a8528-4bf8-44de-b970-7705b50e82c4",
   "metadata": {},
   "outputs": [],
   "source": []
  }
 ],
 "metadata": {
  "kernelspec": {
   "display_name": "Python 3 (ipykernel)",
   "language": "python",
   "name": "python3"
  },
  "language_info": {
   "codemirror_mode": {
    "name": "ipython",
    "version": 3
   },
   "file_extension": ".py",
   "mimetype": "text/x-python",
   "name": "python",
   "nbconvert_exporter": "python",
   "pygments_lexer": "ipython3",
   "version": "3.9.6"
  }
 },
 "nbformat": 4,
 "nbformat_minor": 5
}
