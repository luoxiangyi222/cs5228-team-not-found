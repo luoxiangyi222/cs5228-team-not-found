{
 "cells": [
  {
   "cell_type": "markdown",
   "id": "bf9b3625-2531-46f9-ac75-9b3184e77796",
   "metadata": {},
   "source": [
    "\n",
    "# CS5228 Project - Team not found\n",
    "\n",
    "\n"
   ]
  },
  {
   "cell_type": "code",
   "execution_count": 1,
   "id": "ad03b75b-357b-4a5a-9745-7470401b3229",
   "metadata": {},
   "outputs": [],
   "source": [
    "# import packages\n",
    "\n",
    "import numpy as np\n",
    "import pandas as pd\n",
    "\n",
    "from src.utils import *"
   ]
  },
  {
   "cell_type": "markdown",
   "id": "53e6f6c1-d2df-4143-8b43-0c0e77db0119",
   "metadata": {},
   "source": [
    "## Load Data"
   ]
  },
  {
   "cell_type": "code",
   "execution_count": 2,
   "id": "7cb10fae-6ea9-4c99-b370-055c2cf8de80",
   "metadata": {},
   "outputs": [],
   "source": [
    "\n",
    "path = './'\n",
    "\n",
    "original_train_df = pd.read_csv(path + 'data/train.csv')\n",
    "original_test_df = pd.read_csv(path + 'data/test.csv')"
   ]
  },
  {
   "cell_type": "code",
   "execution_count": 3,
   "id": "cac608d0-2012-45a2-bbfd-e1460b0a275f",
   "metadata": {},
   "outputs": [],
   "source": [
    "# duplicate dataset\n",
    "\n",
    "train_df = original_train_df.copy()\n",
    "test_df = original_test_df.copy()"
   ]
  },
  {
   "cell_type": "code",
   "execution_count": 4,
   "id": "4ca43247-880d-4ff0-b273-13d3bd39dbd7",
   "metadata": {},
   "outputs": [
    {
     "name": "stdout",
     "output_type": "stream",
     "text": [
      "(26048, 23)\n",
      "(7500, 22)\n"
     ]
    }
   ],
   "source": [
    "print(train_df.shape)\n",
    "print(test_df.shape)"
   ]
  },
  {
   "cell_type": "code",
   "execution_count": 5,
   "id": "9dd19339-7f6d-45fc-b129-0583ae1de85c",
   "metadata": {},
   "outputs": [
    {
     "data": {
      "text/html": [
       "<div>\n",
       "<style scoped>\n",
       "    .dataframe tbody tr th:only-of-type {\n",
       "        vertical-align: middle;\n",
       "    }\n",
       "\n",
       "    .dataframe tbody tr th {\n",
       "        vertical-align: top;\n",
       "    }\n",
       "\n",
       "    .dataframe thead th {\n",
       "        text-align: right;\n",
       "    }\n",
       "</style>\n",
       "<table border=\"1\" class=\"dataframe\">\n",
       "  <thead>\n",
       "    <tr style=\"text-align: right;\">\n",
       "      <th></th>\n",
       "      <th>listing_id</th>\n",
       "      <th>name</th>\n",
       "      <th>street</th>\n",
       "      <th>type</th>\n",
       "      <th>model</th>\n",
       "      <th>market_segment</th>\n",
       "      <th>type_of_area</th>\n",
       "      <th>bedrooms</th>\n",
       "      <th>bathrooms</th>\n",
       "      <th>district</th>\n",
       "      <th>...</th>\n",
       "      <th>lat</th>\n",
       "      <th>lng</th>\n",
       "      <th>tenure</th>\n",
       "      <th>built_year</th>\n",
       "      <th>no_of_units</th>\n",
       "      <th>area_size</th>\n",
       "      <th>eco_category</th>\n",
       "      <th>accessibility</th>\n",
       "      <th>date_listed</th>\n",
       "      <th>price</th>\n",
       "    </tr>\n",
       "  </thead>\n",
       "  <tbody>\n",
       "    <tr>\n",
       "      <th>0</th>\n",
       "      <td>6998418</td>\n",
       "      <td>seascape</td>\n",
       "      <td>57 cove way</td>\n",
       "      <td>condominium</td>\n",
       "      <td>condominium</td>\n",
       "      <td>ocr</td>\n",
       "      <td>strata</td>\n",
       "      <td>3</td>\n",
       "      <td>4.0</td>\n",
       "      <td>4</td>\n",
       "      <td>...</td>\n",
       "      <td>1.239337</td>\n",
       "      <td>103.837487</td>\n",
       "      <td>leasehold/99 years</td>\n",
       "      <td>2011.0</td>\n",
       "      <td>151.0</td>\n",
       "      <td>2336.0</td>\n",
       "      <td>uncategorized</td>\n",
       "      <td>guarded</td>\n",
       "      <td>2021-05-04</td>\n",
       "      <td>5390000.0</td>\n",
       "    </tr>\n",
       "    <tr>\n",
       "      <th>1</th>\n",
       "      <td>2046604</td>\n",
       "      <td>la maison</td>\n",
       "      <td>10 moulmein rise</td>\n",
       "      <td>apartment</td>\n",
       "      <td>apartment</td>\n",
       "      <td>ocr</td>\n",
       "      <td>strata</td>\n",
       "      <td>3</td>\n",
       "      <td>3.0</td>\n",
       "      <td>11</td>\n",
       "      <td>...</td>\n",
       "      <td>1.319533</td>\n",
       "      <td>103.847030</td>\n",
       "      <td>freehold</td>\n",
       "      <td>1999.0</td>\n",
       "      <td>24.0</td>\n",
       "      <td>1259.0</td>\n",
       "      <td>uncategorized</td>\n",
       "      <td>guarded</td>\n",
       "      <td>2021-05-07</td>\n",
       "      <td>2310000.0</td>\n",
       "    </tr>\n",
       "    <tr>\n",
       "      <th>2</th>\n",
       "      <td>7563513</td>\n",
       "      <td>viva</td>\n",
       "      <td>2 suffolk walk</td>\n",
       "      <td>condominium</td>\n",
       "      <td>condominium</td>\n",
       "      <td>ocr</td>\n",
       "      <td>strata</td>\n",
       "      <td>4</td>\n",
       "      <td>3.0</td>\n",
       "      <td>11</td>\n",
       "      <td>...</td>\n",
       "      <td>1.315656</td>\n",
       "      <td>103.844445</td>\n",
       "      <td>freehold</td>\n",
       "      <td>2012.0</td>\n",
       "      <td>235.0</td>\n",
       "      <td>1959.0</td>\n",
       "      <td>uncategorized</td>\n",
       "      <td>guarded</td>\n",
       "      <td>2021-06-30</td>\n",
       "      <td>5279500.0</td>\n",
       "    </tr>\n",
       "    <tr>\n",
       "      <th>3</th>\n",
       "      <td>3071445</td>\n",
       "      <td>urban treasures</td>\n",
       "      <td>205 jalan eunos</td>\n",
       "      <td>condominium</td>\n",
       "      <td>condominium</td>\n",
       "      <td>ocr</td>\n",
       "      <td>strata</td>\n",
       "      <td>3</td>\n",
       "      <td>2.0</td>\n",
       "      <td>14</td>\n",
       "      <td>...</td>\n",
       "      <td>1.329367</td>\n",
       "      <td>103.905791</td>\n",
       "      <td>freehold</td>\n",
       "      <td>NaN</td>\n",
       "      <td>237.0</td>\n",
       "      <td>883.0</td>\n",
       "      <td>uncategorized</td>\n",
       "      <td>guarded</td>\n",
       "      <td>2022-01-02</td>\n",
       "      <td>1843600.0</td>\n",
       "    </tr>\n",
       "    <tr>\n",
       "      <th>4</th>\n",
       "      <td>9667539</td>\n",
       "      <td>infini at east coast</td>\n",
       "      <td>east coast road</td>\n",
       "      <td>apartment</td>\n",
       "      <td>apartment</td>\n",
       "      <td>ocr</td>\n",
       "      <td>strata</td>\n",
       "      <td>3</td>\n",
       "      <td>3.0</td>\n",
       "      <td>15</td>\n",
       "      <td>...</td>\n",
       "      <td>1.309176</td>\n",
       "      <td>103.911352</td>\n",
       "      <td>freehold</td>\n",
       "      <td>NaN</td>\n",
       "      <td>36.0</td>\n",
       "      <td>1066.0</td>\n",
       "      <td>uncategorized</td>\n",
       "      <td>guarded</td>\n",
       "      <td>2021-12-24</td>\n",
       "      <td>2262700.0</td>\n",
       "    </tr>\n",
       "  </tbody>\n",
       "</table>\n",
       "<p>5 rows × 23 columns</p>\n",
       "</div>"
      ],
      "text/plain": [
       "   listing_id                  name             street         type  \\\n",
       "0     6998418              seascape       57 cove way   condominium   \n",
       "1     2046604             la maison  10 moulmein rise     apartment   \n",
       "2     7563513                  viva    2 suffolk walk   condominium   \n",
       "3     3071445       urban treasures   205 jalan eunos   condominium   \n",
       "4     9667539  infini at east coast    east coast road    apartment   \n",
       "\n",
       "         model market_segment type_of_area bedrooms  bathrooms  district  ...  \\\n",
       "0  condominium            ocr       strata        3        4.0         4  ...   \n",
       "1    apartment            ocr       strata        3        3.0        11  ...   \n",
       "2  condominium            ocr       strata        4        3.0        11  ...   \n",
       "3  condominium            ocr       strata        3        2.0        14  ...   \n",
       "4    apartment            ocr       strata        3        3.0        15  ...   \n",
       "\n",
       "        lat         lng              tenure  built_year  no_of_units  \\\n",
       "0  1.239337  103.837487  leasehold/99 years      2011.0        151.0   \n",
       "1  1.319533  103.847030            freehold      1999.0         24.0   \n",
       "2  1.315656  103.844445            freehold      2012.0        235.0   \n",
       "3  1.329367  103.905791            freehold         NaN        237.0   \n",
       "4  1.309176  103.911352            freehold         NaN         36.0   \n",
       "\n",
       "  area_size   eco_category  accessibility  date_listed      price  \n",
       "0    2336.0  uncategorized        guarded   2021-05-04  5390000.0  \n",
       "1    1259.0  uncategorized        guarded   2021-05-07  2310000.0  \n",
       "2    1959.0  uncategorized        guarded   2021-06-30  5279500.0  \n",
       "3     883.0  uncategorized        guarded   2022-01-02  1843600.0  \n",
       "4    1066.0  uncategorized        guarded   2021-12-24  2262700.0  \n",
       "\n",
       "[5 rows x 23 columns]"
      ]
     },
     "execution_count": 5,
     "metadata": {},
     "output_type": "execute_result"
    }
   ],
   "source": [
    "train_df.head()"
   ]
  },
  {
   "cell_type": "code",
   "execution_count": 6,
   "id": "bdbfbaf2-c4c6-4cc9-a7a5-cc34e8f55a62",
   "metadata": {},
   "outputs": [
    {
     "name": "stdout",
     "output_type": "stream",
     "text": [
      "listing_id          int64\n",
      "name               object\n",
      "street             object\n",
      "type               object\n",
      "model              object\n",
      "market_segment     object\n",
      "type_of_area       object\n",
      "bedrooms           object\n",
      "bathrooms         float64\n",
      "district            int64\n",
      "region             object\n",
      "planning_area      object\n",
      "subszone           object\n",
      "lat               float64\n",
      "lng               float64\n",
      "tenure             object\n",
      "built_year        float64\n",
      "no_of_units       float64\n",
      "area_size         float64\n",
      "eco_category       object\n",
      "accessibility      object\n",
      "date_listed        object\n",
      "price             float64\n",
      "dtype: object\n"
     ]
    }
   ],
   "source": [
    "print(train_df.dtypes)"
   ]
  },
  {
   "cell_type": "markdown",
   "id": "f428dc3c-0918-4e1d-b1f8-8335fcfe61d6",
   "metadata": {},
   "source": [
    "## Data Cleaning"
   ]
  },
  {
   "cell_type": "markdown",
   "id": "01ed8984-7820-4b84-9ca0-055ce60ab818",
   "metadata": {},
   "source": [
    "### Check null value"
   ]
  },
  {
   "cell_type": "code",
   "execution_count": 7,
   "id": "cc5f40e7-7043-4ce6-b151-630b5c812d54",
   "metadata": {},
   "outputs": [
    {
     "data": {
      "text/plain": [
       "listing_id            0\n",
       "name                  0\n",
       "street                0\n",
       "type                  0\n",
       "model              1280\n",
       "market_segment        0\n",
       "type_of_area          0\n",
       "bedrooms            404\n",
       "bathrooms          1236\n",
       "district              0\n",
       "region                0\n",
       "planning_area         0\n",
       "subszone              0\n",
       "lat                   0\n",
       "lng                   0\n",
       "tenure              287\n",
       "built_year        10043\n",
       "no_of_units        1042\n",
       "area_size             2\n",
       "eco_category          0\n",
       "accessibility         0\n",
       "date_listed           0\n",
       "price                 0\n",
       "dtype: int64"
      ]
     },
     "execution_count": 7,
     "metadata": {},
     "output_type": "execute_result"
    }
   ],
   "source": [
    "\n",
    "# combine train and test \n",
    "\n",
    "# train_test_df = pd.concat([train_df, test_df], axis=0)\n",
    "\n",
    "compute_null_count(original_train_df)"
   ]
  },
  {
   "cell_type": "code",
   "execution_count": 8,
   "id": "de0e780e-5688-4a0e-a71c-49d6002d9eb9",
   "metadata": {},
   "outputs": [],
   "source": [
    "# compute_null_count(test_df)"
   ]
  },
  {
   "cell_type": "code",
   "execution_count": 9,
   "id": "6b25cb0e-30a2-41d1-8c86-b5f1283bcbca",
   "metadata": {},
   "outputs": [
    {
     "name": "stdout",
     "output_type": "stream",
     "text": [
      "model    1280\n",
      "dtype: int64\n",
      "model    81\n",
      "dtype: int64\n",
      "model    0\n",
      "dtype: int64\n"
     ]
    }
   ],
   "source": [
    "# model\n",
    "\n",
    "# model_counts = train_df['model'].value_counts()\n",
    "# print(model_counts)\n",
    "\n",
    "print(compute_null_count(original_train_df, [\"model\"]))\n",
    "\n",
    "\n",
    "# fill null with the same property name\n",
    "train_df = fill_missing_value_by_flags(train_df, \"model\", \"name\")\n",
    "print(compute_null_count(train_df, [\"model\"]))\n",
    "\n",
    "# fill null by mode\n",
    "train_df = fill_missing_value_by_mode(train_df, \"model\")\n",
    "print(compute_null_count(train_df, [\"model\"]))"
   ]
  },
  {
   "cell_type": "code",
   "execution_count": 10,
   "id": "a9719602-9eaf-471f-b2ad-be52f5b226f4",
   "metadata": {},
   "outputs": [
    {
     "name": "stdout",
     "output_type": "stream",
     "text": [
      "bedrooms    404\n",
      "dtype: int64\n"
     ]
    }
   ],
   "source": [
    "# bedroom\n",
    "\n",
    "# break into bedrooms and additional rooms\n",
    "print(compute_null_count(train_df, [\"bedrooms\"]))\n",
    "\n",
    "# dealing with 4+2 cases\n",
    "\n",
    "\n",
    "\n",
    "# fill null according to area size\n",
    "\n",
    "# TODO!!!\n",
    "\n",
    "\n",
    "# fill null by mode\n",
    "# train_df.loc[train_df['bedrooms'].isnull(), 'bedrooms'] = 3\n"
   ]
  },
  {
   "cell_type": "code",
   "execution_count": null,
   "id": "04a60f60-8a4e-41d0-9e60-8438f9480b77",
   "metadata": {},
   "outputs": [],
   "source": []
  },
  {
   "cell_type": "code",
   "execution_count": null,
   "id": "1714810c-733b-45c1-a39e-5283700ca1f8",
   "metadata": {},
   "outputs": [],
   "source": [
    "# bathroom\n",
    "bathroom_counts = train_df['bathrooms'].value_counts()\n",
    "\n",
    "print(bathroom_counts)\n",
    "\n",
    "\n",
    "# fill null by mode\n",
    "train_df.loc[train_df['bathrooms'].isnull(), 'bathrooms'] = 2."
   ]
  },
  {
   "cell_type": "code",
   "execution_count": null,
   "id": "c7bf70ee-e526-4aa9-a15e-99d455315383",
   "metadata": {},
   "outputs": [],
   "source": [
    "# tenure\n",
    "tenure_counts = train_df['tenure'].value_counts()\n",
    "\n",
    "print(tenure_counts)\n",
    "\n",
    "\n",
    "# fill null by mode\n",
    "train_df.loc[train_df['tenure'].isnull(), 'tenure'] = 'leasehold/99 years'"
   ]
  },
  {
   "cell_type": "code",
   "execution_count": null,
   "id": "60ec4958-952d-44c4-9638-c7d9f625ff2b",
   "metadata": {},
   "outputs": [],
   "source": [
    "# built_year\n",
    "# fill null by median\n",
    "train_df.loc[train_df['built_year'].isnull(), 'built_year'] = train_df['built_year'].median()"
   ]
  },
  {
   "cell_type": "code",
   "execution_count": null,
   "id": "191997c7-224e-42a8-a13b-4e8c86c1ed2f",
   "metadata": {},
   "outputs": [],
   "source": [
    "# no_of_units\n",
    "\n",
    "# fill null by median\n",
    "train_df.loc[train_df['no_of_units'].isnull(), 'no_of_units'] = train_df['no_of_units'].median()"
   ]
  },
  {
   "cell_type": "code",
   "execution_count": null,
   "id": "d9932186-514e-4ddd-bf63-0e8476952064",
   "metadata": {},
   "outputs": [],
   "source": [
    "# area_size\n",
    "\n",
    "# fill null by median\n",
    "train_df.loc[train_df['area_size'].isnull(), 'area_size'] = train_df['area_size'].median()"
   ]
  },
  {
   "cell_type": "code",
   "execution_count": null,
   "id": "244aa460-5a49-4ea7-923d-f21a81603b94",
   "metadata": {},
   "outputs": [],
   "source": [
    "# check null\n",
    "compute_null_count(train_df)"
   ]
  },
  {
   "cell_type": "markdown",
   "id": "c324bfc3-0c46-4121-9202-1b62e1570274",
   "metadata": {},
   "source": [
    "### Check duplicates"
   ]
  },
  {
   "cell_type": "code",
   "execution_count": null,
   "id": "9d4e4a5d-f2f5-4467-8c06-abb01e5cb1e2",
   "metadata": {},
   "outputs": [],
   "source": [
    "np.sum(train_df['listing_id'].duplicated())"
   ]
  },
  {
   "cell_type": "markdown",
   "id": "4a357a01-f13c-4abe-a843-cb1e94bd5552",
   "metadata": {},
   "source": [
    "### Drop useless columns\n",
    "\n"
   ]
  },
  {
   "cell_type": "code",
   "execution_count": null,
   "id": "a0137377-0a63-439f-a91d-0fffeea9db12",
   "metadata": {},
   "outputs": [],
   "source": [
    "print(train_df['market_segment'].value_counts())\n",
    "print(train_df['type_of_area'].value_counts())\n",
    "print(train_df['eco_category'].value_counts())\n",
    "print(train_df['accessibility'].value_counts())"
   ]
  },
  {
   "cell_type": "code",
   "execution_count": null,
   "id": "04cf01ba-5dc7-4862-880a-c4188f8e28ed",
   "metadata": {},
   "outputs": [],
   "source": [
    "to_drop_columns = ['market_segment', 'type_of_area', 'listing_id', 'eco_category', 'accessibility']\n",
    "\n",
    "train_df = train_df.drop(columns=to_drop_columns)\n",
    "\n",
    "train_df.shape"
   ]
  },
  {
   "cell_type": "code",
   "execution_count": null,
   "id": "7c32e8e7-30fc-45e7-a32e-6f1a8fed0c61",
   "metadata": {},
   "outputs": [],
   "source": [
    "# split categorical and numerical features \n",
    "\n",
    "cat_feature_names = [train_df.dtypes.index[i] for i in range(train_df.shape[1]) if train_df.dtypes.values[i] == object]\n",
    "num_feature_names = [train_df.dtypes.index[i] for i in range(train_df.shape[1]) if train_df.dtypes.values[i] != object]"
   ]
  },
  {
   "cell_type": "code",
   "execution_count": null,
   "id": "30ad36eb-6252-4c08-9262-4ce2525000c7",
   "metadata": {},
   "outputs": [],
   "source": [
    "\n"
   ]
  },
  {
   "cell_type": "code",
   "execution_count": null,
   "id": "ea668f01-ac28-4d50-8f86-2c140ae00dc1",
   "metadata": {},
   "outputs": [],
   "source": []
  },
  {
   "cell_type": "markdown",
   "id": "1c0187a4-2a2b-4278-8c2e-39e7655e83dd",
   "metadata": {},
   "source": [
    "### Categorical features"
   ]
  },
  {
   "cell_type": "code",
   "execution_count": null,
   "id": "78d87ca0-306f-4218-bda8-18fbc9221e1b",
   "metadata": {},
   "outputs": [],
   "source": []
  },
  {
   "cell_type": "code",
   "execution_count": null,
   "id": "40c5f5cf-3284-4fce-b550-df151e0a1ae3",
   "metadata": {},
   "outputs": [],
   "source": []
  },
  {
   "cell_type": "code",
   "execution_count": null,
   "id": "c82a8528-4bf8-44de-b970-7705b50e82c4",
   "metadata": {},
   "outputs": [],
   "source": []
  }
 ],
 "metadata": {
  "kernelspec": {
   "display_name": "Python 3 (ipykernel)",
   "language": "python",
   "name": "python3"
  },
  "language_info": {
   "codemirror_mode": {
    "name": "ipython",
    "version": 3
   },
   "file_extension": ".py",
   "mimetype": "text/x-python",
   "name": "python",
   "nbconvert_exporter": "python",
   "pygments_lexer": "ipython3",
   "version": "3.9.6"
  }
 },
 "nbformat": 4,
 "nbformat_minor": 5
}
