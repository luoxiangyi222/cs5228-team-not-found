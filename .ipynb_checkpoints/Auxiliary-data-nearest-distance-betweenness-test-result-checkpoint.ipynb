{
 "cells": [
  {
   "cell_type": "markdown",
   "id": "f5881a68",
   "metadata": {},
   "source": [
    "## Use Weighted MRT + Distance to Nearest Amenties\n",
    "## Train Random Forest & Predict on Test Data"
   ]
  },
  {
   "cell_type": "code",
   "execution_count": null,
   "id": "40b1599c",
   "metadata": {},
   "outputs": [],
   "source": [
    "import numpy as np\n",
    "import pandas as pd\n",
    "from sklearn.preprocessing import MinMaxScaler, StandardScaler, OneHotEncoder\n",
    "import category_encoders as ce\n",
    "import seaborn as sns\n",
    "\n",
    "import matplotlib.pyplot as plt\n",
    "\n",
    "from sklearn.linear_model import LinearRegression\n",
    "from sklearn.tree import DecisionTreeRegressor\n",
    "from sklearn.ensemble import RandomForestRegressor\n",
    "from sklearn.ensemble import AdaBoostRegressor\n",
    "from sklearn.ensemble import GradientBoostingRegressor\n",
    "\n",
    "from sklearn.model_selection import cross_val_score\n",
    "from sklearn.model_selection import KFold\n",
    "from geopy.distance import geodesic\n",
    "import geopy\n",
    "\n",
    "from sklearn.model_selection import GridSearchCV\n",
    "from sklearn import tree"
   ]
  },
  {
   "cell_type": "code",
   "execution_count": null,
   "id": "e2f9ffc2",
   "metadata": {},
   "outputs": [],
   "source": [
    "# load pre-processed data\n",
    "train_df = pd.read_csv('./data/full-train.csv', index_col=0)\n",
    "test_df = pd.read_csv('./data/full-test.csv', index_col=0)\n",
    "train_df"
   ]
  },
  {
   "cell_type": "code",
   "execution_count": null,
   "id": "ffcd5eeb",
   "metadata": {},
   "outputs": [],
   "source": [
    "# x y split\n",
    "X_train = train_df.drop(columns = ['price'])\n",
    "y_train = train_df['price']"
   ]
  },
  {
   "cell_type": "code",
   "execution_count": null,
   "id": "685aef4d",
   "metadata": {},
   "outputs": [],
   "source": [
    "weighted_distance = pd.read_csv('./data/auxiliary-mrt-distance-weighted.csv', index_col=0)\n",
    "weighted_distance_test = pd.read_csv('./data/auxiliary-mrt-distance-weighted-test.csv', index_col=0)"
   ]
  },
  {
   "cell_type": "code",
   "execution_count": null,
   "id": "139da64c",
   "metadata": {},
   "outputs": [],
   "source": [
    "# standardize auxiliary data\n",
    "weighted_betweenness_distance = weighted_distance.drop(columns = ['closeness_closest_mrt', 'closest_mrt'])\n",
    "\n",
    "num_scaler = StandardScaler()\n",
    "weighted_betweenness_distance[weighted_betweenness_distance.columns] = num_scaler.fit_transform(weighted_betweenness_distance) "
   ]
  },
  {
   "cell_type": "code",
   "execution_count": null,
   "id": "0433355e",
   "metadata": {},
   "outputs": [],
   "source": [
    "x_train_red_num_amenties_betweenness = X_train.join(weighted_betweenness_num_amenties)"
   ]
  }
 ],
 "metadata": {
  "kernelspec": {
   "display_name": "CS5228",
   "language": "python",
   "name": "cs5228"
  },
  "language_info": {
   "codemirror_mode": {
    "name": "ipython",
    "version": 3
   },
   "file_extension": ".py",
   "mimetype": "text/x-python",
   "name": "python",
   "nbconvert_exporter": "python",
   "pygments_lexer": "ipython3",
   "version": "3.9.7"
  }
 },
 "nbformat": 4,
 "nbformat_minor": 5
}
